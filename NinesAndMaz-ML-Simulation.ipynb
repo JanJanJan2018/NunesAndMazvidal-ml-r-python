{
 "cells": [
  {
   "cell_type": "markdown",
   "metadata": {},
   "source": [
    "This script uses the Nunez features added data table and the Mazvidal features added as a simulation for how similar Nunez's training set creates a model that compares her testing set and Mazvidal's testing set using that model. \n",
    "The added features are for X1 and X2, where X1 is the champ and X2 is the challenger in these sets. When Mazvidal's testing set is used to test similarity in Nunez's fighter action/reactions to Mazvidal's this tests how the X1 hits landed for Nunez predict the X1 hits landed of Mazvidal's fighter action/reactions against his challenger Till in that set. The Nunez set uses the first round of Tate, Rousey, and Pennington up to 5 minutes each. \n",
    "These added features split the hits landed, missed, and received into cross, jab, knee, kick, elbow, upper cut, takedown, hooks, and hammer hits for each of landed (ends in 'l', i.e. 'crossl.X1' for X1 or 'crossl.X2' for X2) and ends in 'm' for missed, and ends in 'r' for 'received' or 'got hit'. There are 182 total features, where the features for targeting the hits landed by X1 use all the features except for those features that are the types of hits landed for X1, the hits received by X2 that are identical to hits landed by X1 (the target), and for consistent machine learning the ordinal/factor variables for time, notes, and action/reactions of each fighter were omitted."
   ]
  },
  {
   "cell_type": "code",
   "execution_count": 307,
   "metadata": {},
   "outputs": [
    {
     "name": "stdout",
     "output_type": "stream",
     "text": [
      "Wall time: 78 ms\n"
     ]
    }
   ],
   "source": [
    "%%time\n",
    "\n",
    "%matplotlib inline\n",
    "import matplotlib.pyplot as plt\n",
    "import pandas as pd\n",
    "import numpy as np\n",
    "from sklearn.model_selection import train_test_split\n",
    "from sklearn import preprocessing\n",
    "from sklearn.metrics import classification_report, f1_score, accuracy_score, confusion_matrix\n",
    "\n",
    "# Read in the file \n",
    "df = pd.read_csv('SarahWolfEaten_addedFeatures.csv')\n",
    "\n"
   ]
  },
  {
   "cell_type": "code",
   "execution_count": 308,
   "metadata": {},
   "outputs": [
    {
     "data": {
      "text/html": [
       "<div>\n",
       "<style scoped>\n",
       "    .dataframe tbody tr th:only-of-type {\n",
       "        vertical-align: middle;\n",
       "    }\n",
       "\n",
       "    .dataframe tbody tr th {\n",
       "        vertical-align: top;\n",
       "    }\n",
       "\n",
       "    .dataframe thead th {\n",
       "        text-align: right;\n",
       "    }\n",
       "</style>\n",
       "<table border=\"1\" class=\"dataframe\">\n",
       "  <thead>\n",
       "    <tr style=\"text-align: right;\">\n",
       "      <th></th>\n",
       "      <th>Round</th>\n",
       "      <th>SecondsIntoRound</th>\n",
       "      <th>lastAction</th>\n",
       "      <th>SecondsLastRoundAction</th>\n",
       "      <th>cmTotHitsR.X1</th>\n",
       "      <th>cmTotHitsL.X1</th>\n",
       "      <th>cmTotHitsM.X1</th>\n",
       "      <th>TotLandsX1</th>\n",
       "      <th>TotMissedX1</th>\n",
       "      <th>TotReceivedX1</th>\n",
       "      <th>...</th>\n",
       "      <th>hammer2r.X2</th>\n",
       "      <th>Cross3r.X2</th>\n",
       "      <th>Knee3r.X2</th>\n",
       "      <th>Elbow3r.X2</th>\n",
       "      <th>Hook3r.X2</th>\n",
       "      <th>Jab3r.X2</th>\n",
       "      <th>Kick3r.X2</th>\n",
       "      <th>upper3r.X2</th>\n",
       "      <th>takedown3r.X2</th>\n",
       "      <th>hammer3r.X2</th>\n",
       "    </tr>\n",
       "  </thead>\n",
       "  <tbody>\n",
       "    <tr>\n",
       "      <th>0</th>\n",
       "      <td>1</td>\n",
       "      <td>9</td>\n",
       "      <td>0</td>\n",
       "      <td>9</td>\n",
       "      <td>0</td>\n",
       "      <td>0</td>\n",
       "      <td>0</td>\n",
       "      <td>0</td>\n",
       "      <td>0</td>\n",
       "      <td>0</td>\n",
       "      <td>...</td>\n",
       "      <td>0</td>\n",
       "      <td>0</td>\n",
       "      <td>0</td>\n",
       "      <td>0</td>\n",
       "      <td>0</td>\n",
       "      <td>0</td>\n",
       "      <td>0</td>\n",
       "      <td>0</td>\n",
       "      <td>0</td>\n",
       "      <td>0</td>\n",
       "    </tr>\n",
       "    <tr>\n",
       "      <th>1</th>\n",
       "      <td>1</td>\n",
       "      <td>13</td>\n",
       "      <td>9</td>\n",
       "      <td>4</td>\n",
       "      <td>0</td>\n",
       "      <td>0</td>\n",
       "      <td>0</td>\n",
       "      <td>0</td>\n",
       "      <td>0</td>\n",
       "      <td>0</td>\n",
       "      <td>...</td>\n",
       "      <td>0</td>\n",
       "      <td>0</td>\n",
       "      <td>0</td>\n",
       "      <td>0</td>\n",
       "      <td>0</td>\n",
       "      <td>0</td>\n",
       "      <td>0</td>\n",
       "      <td>0</td>\n",
       "      <td>0</td>\n",
       "      <td>0</td>\n",
       "    </tr>\n",
       "    <tr>\n",
       "      <th>2</th>\n",
       "      <td>1</td>\n",
       "      <td>16</td>\n",
       "      <td>13</td>\n",
       "      <td>3</td>\n",
       "      <td>0</td>\n",
       "      <td>0</td>\n",
       "      <td>1</td>\n",
       "      <td>0</td>\n",
       "      <td>1</td>\n",
       "      <td>0</td>\n",
       "      <td>...</td>\n",
       "      <td>0</td>\n",
       "      <td>0</td>\n",
       "      <td>0</td>\n",
       "      <td>0</td>\n",
       "      <td>0</td>\n",
       "      <td>0</td>\n",
       "      <td>0</td>\n",
       "      <td>0</td>\n",
       "      <td>0</td>\n",
       "      <td>0</td>\n",
       "    </tr>\n",
       "    <tr>\n",
       "      <th>3</th>\n",
       "      <td>1</td>\n",
       "      <td>18</td>\n",
       "      <td>16</td>\n",
       "      <td>2</td>\n",
       "      <td>0</td>\n",
       "      <td>0</td>\n",
       "      <td>2</td>\n",
       "      <td>0</td>\n",
       "      <td>1</td>\n",
       "      <td>0</td>\n",
       "      <td>...</td>\n",
       "      <td>0</td>\n",
       "      <td>0</td>\n",
       "      <td>0</td>\n",
       "      <td>0</td>\n",
       "      <td>0</td>\n",
       "      <td>0</td>\n",
       "      <td>0</td>\n",
       "      <td>0</td>\n",
       "      <td>0</td>\n",
       "      <td>0</td>\n",
       "    </tr>\n",
       "    <tr>\n",
       "      <th>4</th>\n",
       "      <td>1</td>\n",
       "      <td>37</td>\n",
       "      <td>18</td>\n",
       "      <td>19</td>\n",
       "      <td>0</td>\n",
       "      <td>0</td>\n",
       "      <td>2</td>\n",
       "      <td>0</td>\n",
       "      <td>0</td>\n",
       "      <td>0</td>\n",
       "      <td>...</td>\n",
       "      <td>0</td>\n",
       "      <td>0</td>\n",
       "      <td>0</td>\n",
       "      <td>0</td>\n",
       "      <td>0</td>\n",
       "      <td>0</td>\n",
       "      <td>0</td>\n",
       "      <td>0</td>\n",
       "      <td>0</td>\n",
       "      <td>0</td>\n",
       "    </tr>\n",
       "  </tbody>\n",
       "</table>\n",
       "<p>5 rows × 182 columns</p>\n",
       "</div>"
      ],
      "text/plain": [
       "   Round  SecondsIntoRound  lastAction  SecondsLastRoundAction  cmTotHitsR.X1  \\\n",
       "0      1                 9           0                       9              0   \n",
       "1      1                13           9                       4              0   \n",
       "2      1                16          13                       3              0   \n",
       "3      1                18          16                       2              0   \n",
       "4      1                37          18                      19              0   \n",
       "\n",
       "   cmTotHitsL.X1  cmTotHitsM.X1  TotLandsX1  TotMissedX1  TotReceivedX1  ...  \\\n",
       "0              0              0           0            0              0  ...   \n",
       "1              0              0           0            0              0  ...   \n",
       "2              0              1           0            1              0  ...   \n",
       "3              0              2           0            1              0  ...   \n",
       "4              0              2           0            0              0  ...   \n",
       "\n",
       "   hammer2r.X2  Cross3r.X2  Knee3r.X2  Elbow3r.X2  Hook3r.X2  Jab3r.X2  \\\n",
       "0            0           0          0           0          0         0   \n",
       "1            0           0          0           0          0         0   \n",
       "2            0           0          0           0          0         0   \n",
       "3            0           0          0           0          0         0   \n",
       "4            0           0          0           0          0         0   \n",
       "\n",
       "  Kick3r.X2 upper3r.X2 takedown3r.X2 hammer3r.X2  \n",
       "0         0          0             0           0  \n",
       "1         0          0             0           0  \n",
       "2         0          0             0           0  \n",
       "3         0          0             0           0  \n",
       "4         0          0             0           0  \n",
       "\n",
       "[5 rows x 182 columns]"
      ]
     },
     "execution_count": 308,
     "metadata": {},
     "output_type": "execute_result"
    }
   ],
   "source": [
    "df.head()"
   ]
  },
  {
   "cell_type": "code",
   "execution_count": 309,
   "metadata": {},
   "outputs": [
    {
     "data": {
      "text/html": [
       "<div>\n",
       "<style scoped>\n",
       "    .dataframe tbody tr th:only-of-type {\n",
       "        vertical-align: middle;\n",
       "    }\n",
       "\n",
       "    .dataframe tbody tr th {\n",
       "        vertical-align: top;\n",
       "    }\n",
       "\n",
       "    .dataframe thead th {\n",
       "        text-align: right;\n",
       "    }\n",
       "</style>\n",
       "<table border=\"1\" class=\"dataframe\">\n",
       "  <thead>\n",
       "    <tr style=\"text-align: right;\">\n",
       "      <th></th>\n",
       "      <th>Round</th>\n",
       "      <th>SecondsIntoRound</th>\n",
       "      <th>lastAction</th>\n",
       "      <th>SecondsLastRoundAction</th>\n",
       "      <th>cmTotHitsR.X1</th>\n",
       "      <th>cmTotHitsL.X1</th>\n",
       "      <th>cmTotHitsM.X1</th>\n",
       "      <th>TotLandsX1</th>\n",
       "      <th>TotMissedX1</th>\n",
       "      <th>TotReceivedX1</th>\n",
       "      <th>...</th>\n",
       "      <th>hammer2r.X2</th>\n",
       "      <th>Cross3r.X2</th>\n",
       "      <th>Knee3r.X2</th>\n",
       "      <th>Elbow3r.X2</th>\n",
       "      <th>Hook3r.X2</th>\n",
       "      <th>Jab3r.X2</th>\n",
       "      <th>Kick3r.X2</th>\n",
       "      <th>upper3r.X2</th>\n",
       "      <th>takedown3r.X2</th>\n",
       "      <th>hammer3r.X2</th>\n",
       "    </tr>\n",
       "  </thead>\n",
       "  <tbody>\n",
       "    <tr>\n",
       "      <th>count</th>\n",
       "      <td>162.0</td>\n",
       "      <td>162.000000</td>\n",
       "      <td>162.000000</td>\n",
       "      <td>162.000000</td>\n",
       "      <td>162.000000</td>\n",
       "      <td>162.000000</td>\n",
       "      <td>162.000000</td>\n",
       "      <td>162.000000</td>\n",
       "      <td>162.000000</td>\n",
       "      <td>162.000000</td>\n",
       "      <td>...</td>\n",
       "      <td>162.0</td>\n",
       "      <td>162.0</td>\n",
       "      <td>162.0</td>\n",
       "      <td>162.0</td>\n",
       "      <td>162.0</td>\n",
       "      <td>162.0</td>\n",
       "      <td>162.0</td>\n",
       "      <td>162.0</td>\n",
       "      <td>162.0</td>\n",
       "      <td>162.0</td>\n",
       "    </tr>\n",
       "    <tr>\n",
       "      <th>mean</th>\n",
       "      <td>1.0</td>\n",
       "      <td>122.395062</td>\n",
       "      <td>122.111111</td>\n",
       "      <td>3.320988</td>\n",
       "      <td>0.987654</td>\n",
       "      <td>4.388889</td>\n",
       "      <td>23.148148</td>\n",
       "      <td>0.216049</td>\n",
       "      <td>0.685185</td>\n",
       "      <td>0.030864</td>\n",
       "      <td>...</td>\n",
       "      <td>0.0</td>\n",
       "      <td>0.0</td>\n",
       "      <td>0.0</td>\n",
       "      <td>0.0</td>\n",
       "      <td>0.0</td>\n",
       "      <td>0.0</td>\n",
       "      <td>0.0</td>\n",
       "      <td>0.0</td>\n",
       "      <td>0.0</td>\n",
       "      <td>0.0</td>\n",
       "    </tr>\n",
       "    <tr>\n",
       "      <th>std</th>\n",
       "      <td>0.0</td>\n",
       "      <td>81.533772</td>\n",
       "      <td>81.880841</td>\n",
       "      <td>3.604094</td>\n",
       "      <td>1.074768</td>\n",
       "      <td>3.770184</td>\n",
       "      <td>15.756778</td>\n",
       "      <td>0.469163</td>\n",
       "      <td>0.654390</td>\n",
       "      <td>0.173486</td>\n",
       "      <td>...</td>\n",
       "      <td>0.0</td>\n",
       "      <td>0.0</td>\n",
       "      <td>0.0</td>\n",
       "      <td>0.0</td>\n",
       "      <td>0.0</td>\n",
       "      <td>0.0</td>\n",
       "      <td>0.0</td>\n",
       "      <td>0.0</td>\n",
       "      <td>0.0</td>\n",
       "      <td>0.0</td>\n",
       "    </tr>\n",
       "    <tr>\n",
       "      <th>min</th>\n",
       "      <td>1.0</td>\n",
       "      <td>5.000000</td>\n",
       "      <td>0.000000</td>\n",
       "      <td>1.000000</td>\n",
       "      <td>0.000000</td>\n",
       "      <td>0.000000</td>\n",
       "      <td>0.000000</td>\n",
       "      <td>0.000000</td>\n",
       "      <td>0.000000</td>\n",
       "      <td>0.000000</td>\n",
       "      <td>...</td>\n",
       "      <td>0.0</td>\n",
       "      <td>0.0</td>\n",
       "      <td>0.0</td>\n",
       "      <td>0.0</td>\n",
       "      <td>0.0</td>\n",
       "      <td>0.0</td>\n",
       "      <td>0.0</td>\n",
       "      <td>0.0</td>\n",
       "      <td>0.0</td>\n",
       "      <td>0.0</td>\n",
       "    </tr>\n",
       "    <tr>\n",
       "      <th>25%</th>\n",
       "      <td>1.0</td>\n",
       "      <td>45.250000</td>\n",
       "      <td>45.000000</td>\n",
       "      <td>1.000000</td>\n",
       "      <td>0.000000</td>\n",
       "      <td>1.000000</td>\n",
       "      <td>10.000000</td>\n",
       "      <td>0.000000</td>\n",
       "      <td>0.000000</td>\n",
       "      <td>0.000000</td>\n",
       "      <td>...</td>\n",
       "      <td>0.0</td>\n",
       "      <td>0.0</td>\n",
       "      <td>0.0</td>\n",
       "      <td>0.0</td>\n",
       "      <td>0.0</td>\n",
       "      <td>0.0</td>\n",
       "      <td>0.0</td>\n",
       "      <td>0.0</td>\n",
       "      <td>0.0</td>\n",
       "      <td>0.0</td>\n",
       "    </tr>\n",
       "    <tr>\n",
       "      <th>50%</th>\n",
       "      <td>1.0</td>\n",
       "      <td>119.000000</td>\n",
       "      <td>119.000000</td>\n",
       "      <td>2.000000</td>\n",
       "      <td>1.000000</td>\n",
       "      <td>3.000000</td>\n",
       "      <td>22.000000</td>\n",
       "      <td>0.000000</td>\n",
       "      <td>1.000000</td>\n",
       "      <td>0.000000</td>\n",
       "      <td>...</td>\n",
       "      <td>0.0</td>\n",
       "      <td>0.0</td>\n",
       "      <td>0.0</td>\n",
       "      <td>0.0</td>\n",
       "      <td>0.0</td>\n",
       "      <td>0.0</td>\n",
       "      <td>0.0</td>\n",
       "      <td>0.0</td>\n",
       "      <td>0.0</td>\n",
       "      <td>0.0</td>\n",
       "    </tr>\n",
       "    <tr>\n",
       "      <th>75%</th>\n",
       "      <td>1.0</td>\n",
       "      <td>173.750000</td>\n",
       "      <td>173.750000</td>\n",
       "      <td>4.000000</td>\n",
       "      <td>2.000000</td>\n",
       "      <td>7.000000</td>\n",
       "      <td>31.000000</td>\n",
       "      <td>0.000000</td>\n",
       "      <td>1.000000</td>\n",
       "      <td>0.000000</td>\n",
       "      <td>...</td>\n",
       "      <td>0.0</td>\n",
       "      <td>0.0</td>\n",
       "      <td>0.0</td>\n",
       "      <td>0.0</td>\n",
       "      <td>0.0</td>\n",
       "      <td>0.0</td>\n",
       "      <td>0.0</td>\n",
       "      <td>0.0</td>\n",
       "      <td>0.0</td>\n",
       "      <td>0.0</td>\n",
       "    </tr>\n",
       "    <tr>\n",
       "      <th>max</th>\n",
       "      <td>1.0</td>\n",
       "      <td>299.000000</td>\n",
       "      <td>299.000000</td>\n",
       "      <td>22.000000</td>\n",
       "      <td>3.000000</td>\n",
       "      <td>14.000000</td>\n",
       "      <td>58.000000</td>\n",
       "      <td>2.000000</td>\n",
       "      <td>3.000000</td>\n",
       "      <td>1.000000</td>\n",
       "      <td>...</td>\n",
       "      <td>0.0</td>\n",
       "      <td>0.0</td>\n",
       "      <td>0.0</td>\n",
       "      <td>0.0</td>\n",
       "      <td>0.0</td>\n",
       "      <td>0.0</td>\n",
       "      <td>0.0</td>\n",
       "      <td>0.0</td>\n",
       "      <td>0.0</td>\n",
       "      <td>0.0</td>\n",
       "    </tr>\n",
       "  </tbody>\n",
       "</table>\n",
       "<p>8 rows × 178 columns</p>\n",
       "</div>"
      ],
      "text/plain": [
       "       Round  SecondsIntoRound  lastAction  SecondsLastRoundAction  \\\n",
       "count  162.0        162.000000  162.000000              162.000000   \n",
       "mean     1.0        122.395062  122.111111                3.320988   \n",
       "std      0.0         81.533772   81.880841                3.604094   \n",
       "min      1.0          5.000000    0.000000                1.000000   \n",
       "25%      1.0         45.250000   45.000000                1.000000   \n",
       "50%      1.0        119.000000  119.000000                2.000000   \n",
       "75%      1.0        173.750000  173.750000                4.000000   \n",
       "max      1.0        299.000000  299.000000               22.000000   \n",
       "\n",
       "       cmTotHitsR.X1  cmTotHitsL.X1  cmTotHitsM.X1  TotLandsX1  TotMissedX1  \\\n",
       "count     162.000000     162.000000     162.000000  162.000000   162.000000   \n",
       "mean        0.987654       4.388889      23.148148    0.216049     0.685185   \n",
       "std         1.074768       3.770184      15.756778    0.469163     0.654390   \n",
       "min         0.000000       0.000000       0.000000    0.000000     0.000000   \n",
       "25%         0.000000       1.000000      10.000000    0.000000     0.000000   \n",
       "50%         1.000000       3.000000      22.000000    0.000000     1.000000   \n",
       "75%         2.000000       7.000000      31.000000    0.000000     1.000000   \n",
       "max         3.000000      14.000000      58.000000    2.000000     3.000000   \n",
       "\n",
       "       TotReceivedX1  ...  hammer2r.X2  Cross3r.X2  Knee3r.X2  Elbow3r.X2  \\\n",
       "count     162.000000  ...        162.0       162.0      162.0       162.0   \n",
       "mean        0.030864  ...          0.0         0.0        0.0         0.0   \n",
       "std         0.173486  ...          0.0         0.0        0.0         0.0   \n",
       "min         0.000000  ...          0.0         0.0        0.0         0.0   \n",
       "25%         0.000000  ...          0.0         0.0        0.0         0.0   \n",
       "50%         0.000000  ...          0.0         0.0        0.0         0.0   \n",
       "75%         0.000000  ...          0.0         0.0        0.0         0.0   \n",
       "max         1.000000  ...          0.0         0.0        0.0         0.0   \n",
       "\n",
       "       Hook3r.X2  Jab3r.X2  Kick3r.X2  upper3r.X2  takedown3r.X2  hammer3r.X2  \n",
       "count      162.0     162.0      162.0       162.0          162.0        162.0  \n",
       "mean         0.0       0.0        0.0         0.0            0.0          0.0  \n",
       "std          0.0       0.0        0.0         0.0            0.0          0.0  \n",
       "min          0.0       0.0        0.0         0.0            0.0          0.0  \n",
       "25%          0.0       0.0        0.0         0.0            0.0          0.0  \n",
       "50%          0.0       0.0        0.0         0.0            0.0          0.0  \n",
       "75%          0.0       0.0        0.0         0.0            0.0          0.0  \n",
       "max          0.0       0.0        0.0         0.0            0.0          0.0  \n",
       "\n",
       "[8 rows x 178 columns]"
      ]
     },
     "execution_count": 309,
     "metadata": {},
     "output_type": "execute_result"
    }
   ],
   "source": [
    "df.describe()"
   ]
  },
  {
   "cell_type": "code",
   "execution_count": 310,
   "metadata": {},
   "outputs": [
    {
     "name": "stdout",
     "output_type": "stream",
     "text": [
      "                              0\n",
      "0                         Round\n",
      "1              SecondsIntoRound\n",
      "2                    lastAction\n",
      "3        SecondsLastRoundAction\n",
      "4                 cmTotHitsR.X1\n",
      "5                 cmTotHitsL.X1\n",
      "6                 cmTotHitsM.X1\n",
      "7                    TotLandsX1\n",
      "8                   TotMissedX1\n",
      "9                 TotReceivedX1\n",
      "10                cmTotHitsR.X2\n",
      "11                cmTotHitsL.X2\n",
      "12                cmTotHitsM.X2\n",
      "13                   TotLandsX2\n",
      "14                  TotMissedX2\n",
      "15                TotReceivedX2\n",
      "16                         Time\n",
      "17    FighterActionReactions.X1\n",
      "18  FightersActionsReactions.X2\n",
      "19                        Notes\n",
      "20                    Crossl.X1\n",
      "                0\n",
      "21       Kneel.X1\n",
      "22      Elbowl.X1\n",
      "23       Hookl.X1\n",
      "24        Jabl.X1\n",
      "25       Kickl.X1\n",
      "26      upperl.X1\n",
      "27   takedownl.X1\n",
      "28     hammerl.X1\n",
      "29     Cross2l.X1\n",
      "30      Knee2l.X1\n",
      "31     Elbow2l.X1\n",
      "32      Hook2l.X1\n",
      "33       Jab2l.X1\n",
      "34      Kick2l.X1\n",
      "35     upper2l.X1\n",
      "36  takedown2l.X1\n",
      "37    hammer2l.X1\n",
      "38     Cross3l.X1\n",
      "39      Knee3l.X1\n",
      "40     Elbow3l.X1\n",
      "41      Hook3l.X1\n",
      "42       Jab3l.X1\n",
      "43      Kick3l.X1\n",
      "44     upper3l.X1\n",
      "45  takedown3l.X1\n",
      "46    hammer3l.X1\n",
      "47      Crossl.X2\n",
      "48       Kneel.X2\n",
      "49      Elbowl.X2\n"
     ]
    }
   ],
   "source": [
    "colNames = pd.DataFrame(df.columns)\n",
    "print colNames[0:21]\n",
    "print colNames[21:50]\n"
   ]
  },
  {
   "cell_type": "code",
   "execution_count": 311,
   "metadata": {},
   "outputs": [
    {
     "name": "stdout",
     "output_type": "stream",
     "text": [
      "                0\n",
      "50       Hookl.X2\n",
      "51        Jabl.X2\n",
      "52       Kickl.X2\n",
      "53      upperl.X2\n",
      "54   takedownl.X2\n",
      "55     hammerl.X2\n",
      "56     Cross2l.X2\n",
      "57      Knee2l.X2\n",
      "58     Elbow2l.X2\n",
      "59      Hook2l.X2\n",
      "60       Jab2l.X2\n",
      "61      Kick2l.X2\n",
      "62     upper2l.X2\n",
      "63  takedown2l.X2\n",
      "64    hammer2l.X2\n",
      "65     Cross3l.X2\n",
      "66      Knee3l.X2\n",
      "67     Elbow3l.X2\n",
      "68      Hook3l.X2\n",
      "69       Jab3l.X2\n",
      "70      Kick3l.X2\n",
      "71     upper3l.X2\n",
      "72  takedown3l.X2\n",
      "73    hammer3l.X2\n",
      "74      Crossm.X1\n",
      "                 0\n",
      "75        Kneem.X1\n",
      "76       Elbowm.X1\n",
      "77        Hookm.X1\n",
      "78         Jabm.X1\n",
      "79        Kickm.X1\n",
      "80       upperm.X1\n",
      "81    takedownm.X1\n",
      "82      hammerm.X1\n",
      "83      Cross2m.X1\n",
      "84       Knee2m.X1\n",
      "85      Elbow2m.X1\n",
      "86       Hook2m.X1\n",
      "87        Jab2m.X1\n",
      "88       Kick2m.X1\n",
      "89      upper2m.X1\n",
      "90   takedown2m.X1\n",
      "91     hammer2m.X1\n",
      "92      Cross3m.X1\n",
      "93       Knee3m.X1\n",
      "94      Elbow3m.X1\n",
      "95       Hook3m.X1\n",
      "96        Jab3m.X1\n",
      "97       Kick3m.X1\n",
      "98      upper3m.X1\n",
      "99   takedown3m.X1\n",
      "100    hammer3m.X1\n",
      "101      Crossm.X2\n",
      "102       Kneem.X2\n",
      "103      Elbowm.X2\n",
      "104       Hookm.X2\n"
     ]
    }
   ],
   "source": [
    "print colNames[50:75]\n",
    "print colNames[75:105]\n"
   ]
  },
  {
   "cell_type": "code",
   "execution_count": 312,
   "metadata": {},
   "outputs": [
    {
     "name": "stdout",
     "output_type": "stream",
     "text": [
      "                 0\n",
      "104       Hookm.X2\n",
      "105        Jabm.X2\n",
      "106       Kickm.X2\n",
      "107      upperm.X2\n",
      "108   takedownm.X2\n",
      "109     hammerm.X2\n",
      "110     Cross2m.X2\n",
      "111      Knee2m.X2\n",
      "112     Elbow2m.X2\n",
      "113      Hook2m.X2\n",
      "114       Jab2m.X2\n",
      "115      Kick2m.X2\n",
      "116     upper2m.X2\n",
      "117  takedown2m.X2\n",
      "118    hammer2m.X2\n",
      "119     Cross3m.X2\n",
      "120      Knee3m.X2\n",
      "121     Elbow3m.X2\n",
      "122      Hook3m.X2\n",
      "123       Jab3m.X2\n",
      "124      Kick3m.X2\n",
      "125     upper3m.X2\n",
      "126  takedown3m.X2\n",
      "127    hammer3m.X2\n",
      "128      Crossr.X1\n",
      "129       Kneer.X1\n",
      "                 0\n",
      "130      Elbowr.X1\n",
      "131       Hookr.X1\n",
      "132        Jabr.X1\n",
      "133       Kickr.X1\n",
      "134      upperr.X1\n",
      "135   takedownr.X1\n",
      "136     hammerr.X1\n",
      "137     Cross2r.X1\n",
      "138      Knee2r.X1\n",
      "139     Elbow2r.X1\n",
      "140      Hook2r.X1\n",
      "141       Jab2r.X1\n",
      "142      Kick2r.X1\n",
      "143     upper2r.X1\n",
      "144  takedown2r.X1\n",
      "145    hammer2r.X1\n",
      "146     Cross3r.X1\n",
      "147      Knee3r.X1\n",
      "148     Elbow3r.X1\n",
      "149      Hook3r.X1\n",
      "150       Jab3r.X1\n",
      "151      Kick3r.X1\n",
      "152     upper3r.X1\n",
      "153  takedown3r.X1\n",
      "154    hammer3r.X1\n",
      "155      Crossr.X2\n",
      "156       Kneer.X2\n",
      "157      Elbowr.X2\n",
      "158       Hookr.X2\n",
      "159        Jabr.X2\n",
      "                 0\n",
      "160       Kickr.X2\n",
      "161      upperr.X2\n",
      "162   takedownr.X2\n",
      "163     hammerr.X2\n",
      "164     Cross2r.X2\n",
      "165      Knee2r.X2\n",
      "166     Elbow2r.X2\n",
      "167      Hook2r.X2\n",
      "168       Jab2r.X2\n",
      "169      Kick2r.X2\n",
      "170     upper2r.X2\n",
      "171  takedown2r.X2\n",
      "172    hammer2r.X2\n",
      "173     Cross3r.X2\n",
      "174      Knee3r.X2\n",
      "175     Elbow3r.X2\n",
      "176      Hook3r.X2\n",
      "177       Jab3r.X2\n",
      "178      Kick3r.X2\n",
      "179     upper3r.X2\n",
      "180  takedown3r.X2\n",
      "181    hammer3r.X2\n"
     ]
    }
   ],
   "source": [
    "print colNames[104:130]\n",
    "print colNames[130:160]\n",
    "print colNames[160:]"
   ]
  },
  {
   "cell_type": "markdown",
   "metadata": {},
   "source": [
    "## Split the data into 70% Training and 30% Testing Samples"
   ]
  },
  {
   "cell_type": "code",
   "execution_count": 313,
   "metadata": {},
   "outputs": [
    {
     "name": "stdout",
     "output_type": "stream",
     "text": [
      "(113L, 123L)\n",
      "(49L, 123L)\n",
      "(113L,)\n",
      "(49L,)\n"
     ]
    }
   ],
   "source": [
    "# remove/exclude target variable and time, notes, hits X2 received 15:19 and all types of hits landed by X1 \n",
    "# in (20:46), and hits received by X2(155:181): \n",
    "X = df.iloc[:,[0,1,2,3,4,5,6,8,9,10,11,12,\n",
    "               13,14,47,48,49,50,51,52,53,54,\n",
    "               55,56,57,58,59,60,61,62,63,64,65,66,67,68,69,70,\n",
    "               71,72,73,74,75,76,77,78,79,80,81,82,83,84,85,86,87,\n",
    "               88,89,90,91,92,93,94,95,96,97,98,99,100,101,102,103,\n",
    "               104,105,106,107,108,109,110,111,112,113,114,115,116,\n",
    "               117,118,119,120,121,122,123,124,125,126,127,128,129,\n",
    "               130,131,132,133,134,135,136,137,138,139,140,141,142,\n",
    "               143,144,145,146,147,148,149,150,151,152,153,154,155]].values # returns array of all instances other than the target\n",
    "y = df.iloc[:, 7] .values # returns array of all instances of the target 'TotLandsX1'\n",
    "\n",
    "X_train, X_test, y_train, y_test = train_test_split(\n",
    "    X, y, test_size=0.3, random_state=20)\n",
    "print(X_train.shape)\n",
    "print(X_test.shape)\n",
    "print(y_train.shape)\n",
    "print(y_test.shape)"
   ]
  },
  {
   "cell_type": "code",
   "execution_count": 314,
   "metadata": {},
   "outputs": [
    {
     "name": "stdout",
     "output_type": "stream",
     "text": [
      "Index([u'Round', u'SecondsIntoRound', u'lastAction', u'SecondsLastRoundAction',\n",
      "       u'cmTotHitsR.X1', u'cmTotHitsL.X1', u'cmTotHitsM.X1', u'TotMissedX1',\n",
      "       u'TotReceivedX1', u'cmTotHitsR.X2',\n",
      "       ...\n",
      "       u'Cross3r.X1', u'Knee3r.X1', u'Elbow3r.X1', u'Hook3r.X1', u'Jab3r.X1',\n",
      "       u'Kick3r.X1', u'upper3r.X1', u'takedown3r.X1', u'hammer3r.X1',\n",
      "       u'Crossr.X2'],\n",
      "      dtype='object', length=123)\n"
     ]
    }
   ],
   "source": [
    "dfn = df.iloc[:,[0,1,2,3,4,5,6,8,9,10,11,12,\n",
    "               13,14,47,48,49,50,51,52,53,54,\n",
    "               55,56,57,58,59,60,61,62,63,64,65,66,67,68,69,70,\n",
    "               71,72,73,74,75,76,77,78,79,80,81,82,83,84,85,86,87,\n",
    "               88,89,90,91,92,93,94,95,96,97,98,99,100,101,102,103,\n",
    "               104,105,106,107,108,109,110,111,112,113,114,115,116,\n",
    "               117,118,119,120,121,122,123,124,125,126,127,128,129,\n",
    "               130,131,132,133,134,135,136,137,138,139,140,141,142,\n",
    "               143,144,145,146,147,148,149,150,151,152,153,154,155]]\n",
    "print dfn.columns"
   ]
  },
  {
   "cell_type": "code",
   "execution_count": 315,
   "metadata": {},
   "outputs": [],
   "source": [
    "stdscaler = preprocessing.StandardScaler().fit(X_train)\n",
    "X_scaled  = stdscaler.transform(X)\n",
    "X_train_scaled = stdscaler.transform(X_train)\n",
    "X_test_scaled  = stdscaler.transform(X_test)"
   ]
  },
  {
   "cell_type": "code",
   "execution_count": 316,
   "metadata": {},
   "outputs": [
    {
     "name": "stdout",
     "output_type": "stream",
     "text": [
      "Training set samples:  113\n",
      "Testing set samples:  49\n",
      "49\n"
     ]
    }
   ],
   "source": [
    "print \"Training set samples: \", len(X_train)\n",
    "print \"Testing set samples: \", len(X_test)\n",
    "n = len(X_test)\n",
    "print n"
   ]
  },
  {
   "cell_type": "code",
   "execution_count": 317,
   "metadata": {},
   "outputs": [],
   "source": [
    "df2 = pd.read_csv('wolfey_addedFeatures.csv')"
   ]
  },
  {
   "cell_type": "code",
   "execution_count": 318,
   "metadata": {},
   "outputs": [
    {
     "data": {
      "text/html": [
       "<div>\n",
       "<style scoped>\n",
       "    .dataframe tbody tr th:only-of-type {\n",
       "        vertical-align: middle;\n",
       "    }\n",
       "\n",
       "    .dataframe tbody tr th {\n",
       "        vertical-align: top;\n",
       "    }\n",
       "\n",
       "    .dataframe thead th {\n",
       "        text-align: right;\n",
       "    }\n",
       "</style>\n",
       "<table border=\"1\" class=\"dataframe\">\n",
       "  <thead>\n",
       "    <tr style=\"text-align: right;\">\n",
       "      <th></th>\n",
       "      <th>Round</th>\n",
       "      <th>SecondsIntoRound</th>\n",
       "      <th>lastAction</th>\n",
       "      <th>SecondsLastRoundAction</th>\n",
       "      <th>cmTotHitsR.X1</th>\n",
       "      <th>cmTotHitsL.X1</th>\n",
       "      <th>cmTotHitsM.X1</th>\n",
       "      <th>TotLandsX1</th>\n",
       "      <th>TotMissedX1</th>\n",
       "      <th>TotReceivedX1</th>\n",
       "      <th>...</th>\n",
       "      <th>hammer2r.X2</th>\n",
       "      <th>Cross3r.X2</th>\n",
       "      <th>Knee3r.X2</th>\n",
       "      <th>Elbow3r.X2</th>\n",
       "      <th>Hook3r.X2</th>\n",
       "      <th>Jab3r.X2</th>\n",
       "      <th>Kick3r.X2</th>\n",
       "      <th>upper3r.X2</th>\n",
       "      <th>takedown3r.X2</th>\n",
       "      <th>hammer3r.X2</th>\n",
       "    </tr>\n",
       "  </thead>\n",
       "  <tbody>\n",
       "    <tr>\n",
       "      <th>count</th>\n",
       "      <td>92.000000</td>\n",
       "      <td>92.000000</td>\n",
       "      <td>92.000000</td>\n",
       "      <td>92.000000</td>\n",
       "      <td>92.000000</td>\n",
       "      <td>92.000000</td>\n",
       "      <td>92.000000</td>\n",
       "      <td>92.000000</td>\n",
       "      <td>92.000000</td>\n",
       "      <td>92.000000</td>\n",
       "      <td>...</td>\n",
       "      <td>92.0</td>\n",
       "      <td>92.0</td>\n",
       "      <td>92.0</td>\n",
       "      <td>92.0</td>\n",
       "      <td>92.0</td>\n",
       "      <td>92.0</td>\n",
       "      <td>92.0</td>\n",
       "      <td>92.0</td>\n",
       "      <td>92.0</td>\n",
       "      <td>92.0</td>\n",
       "    </tr>\n",
       "    <tr>\n",
       "      <th>mean</th>\n",
       "      <td>1.369565</td>\n",
       "      <td>121.793478</td>\n",
       "      <td>119.728261</td>\n",
       "      <td>39.119565</td>\n",
       "      <td>1.782609</td>\n",
       "      <td>4.076087</td>\n",
       "      <td>7.293478</td>\n",
       "      <td>0.152174</td>\n",
       "      <td>0.315217</td>\n",
       "      <td>0.086957</td>\n",
       "      <td>...</td>\n",
       "      <td>0.0</td>\n",
       "      <td>0.0</td>\n",
       "      <td>0.0</td>\n",
       "      <td>0.0</td>\n",
       "      <td>0.0</td>\n",
       "      <td>0.0</td>\n",
       "      <td>0.0</td>\n",
       "      <td>0.0</td>\n",
       "      <td>0.0</td>\n",
       "      <td>0.0</td>\n",
       "    </tr>\n",
       "    <tr>\n",
       "      <th>std</th>\n",
       "      <td>0.485332</td>\n",
       "      <td>79.356414</td>\n",
       "      <td>80.031327</td>\n",
       "      <td>57.544410</td>\n",
       "      <td>1.184386</td>\n",
       "      <td>2.335741</td>\n",
       "      <td>5.685026</td>\n",
       "      <td>0.417601</td>\n",
       "      <td>0.533068</td>\n",
       "      <td>0.319759</td>\n",
       "      <td>...</td>\n",
       "      <td>0.0</td>\n",
       "      <td>0.0</td>\n",
       "      <td>0.0</td>\n",
       "      <td>0.0</td>\n",
       "      <td>0.0</td>\n",
       "      <td>0.0</td>\n",
       "      <td>0.0</td>\n",
       "      <td>0.0</td>\n",
       "      <td>0.0</td>\n",
       "      <td>0.0</td>\n",
       "    </tr>\n",
       "    <tr>\n",
       "      <th>min</th>\n",
       "      <td>1.000000</td>\n",
       "      <td>1.000000</td>\n",
       "      <td>0.000000</td>\n",
       "      <td>1.000000</td>\n",
       "      <td>0.000000</td>\n",
       "      <td>0.000000</td>\n",
       "      <td>0.000000</td>\n",
       "      <td>0.000000</td>\n",
       "      <td>0.000000</td>\n",
       "      <td>0.000000</td>\n",
       "      <td>...</td>\n",
       "      <td>0.0</td>\n",
       "      <td>0.0</td>\n",
       "      <td>0.0</td>\n",
       "      <td>0.0</td>\n",
       "      <td>0.0</td>\n",
       "      <td>0.0</td>\n",
       "      <td>0.0</td>\n",
       "      <td>0.0</td>\n",
       "      <td>0.0</td>\n",
       "      <td>0.0</td>\n",
       "    </tr>\n",
       "    <tr>\n",
       "      <th>25%</th>\n",
       "      <td>1.000000</td>\n",
       "      <td>49.750000</td>\n",
       "      <td>48.750000</td>\n",
       "      <td>3.000000</td>\n",
       "      <td>1.000000</td>\n",
       "      <td>2.000000</td>\n",
       "      <td>3.000000</td>\n",
       "      <td>0.000000</td>\n",
       "      <td>0.000000</td>\n",
       "      <td>0.000000</td>\n",
       "      <td>...</td>\n",
       "      <td>0.0</td>\n",
       "      <td>0.0</td>\n",
       "      <td>0.0</td>\n",
       "      <td>0.0</td>\n",
       "      <td>0.0</td>\n",
       "      <td>0.0</td>\n",
       "      <td>0.0</td>\n",
       "      <td>0.0</td>\n",
       "      <td>0.0</td>\n",
       "      <td>0.0</td>\n",
       "    </tr>\n",
       "    <tr>\n",
       "      <th>50%</th>\n",
       "      <td>1.000000</td>\n",
       "      <td>121.000000</td>\n",
       "      <td>116.000000</td>\n",
       "      <td>8.000000</td>\n",
       "      <td>2.000000</td>\n",
       "      <td>4.000000</td>\n",
       "      <td>6.000000</td>\n",
       "      <td>0.000000</td>\n",
       "      <td>0.000000</td>\n",
       "      <td>0.000000</td>\n",
       "      <td>...</td>\n",
       "      <td>0.0</td>\n",
       "      <td>0.0</td>\n",
       "      <td>0.0</td>\n",
       "      <td>0.0</td>\n",
       "      <td>0.0</td>\n",
       "      <td>0.0</td>\n",
       "      <td>0.0</td>\n",
       "      <td>0.0</td>\n",
       "      <td>0.0</td>\n",
       "      <td>0.0</td>\n",
       "    </tr>\n",
       "    <tr>\n",
       "      <th>75%</th>\n",
       "      <td>2.000000</td>\n",
       "      <td>174.500000</td>\n",
       "      <td>172.250000</td>\n",
       "      <td>48.250000</td>\n",
       "      <td>2.000000</td>\n",
       "      <td>6.000000</td>\n",
       "      <td>10.000000</td>\n",
       "      <td>0.000000</td>\n",
       "      <td>1.000000</td>\n",
       "      <td>0.000000</td>\n",
       "      <td>...</td>\n",
       "      <td>0.0</td>\n",
       "      <td>0.0</td>\n",
       "      <td>0.0</td>\n",
       "      <td>0.0</td>\n",
       "      <td>0.0</td>\n",
       "      <td>0.0</td>\n",
       "      <td>0.0</td>\n",
       "      <td>0.0</td>\n",
       "      <td>0.0</td>\n",
       "      <td>0.0</td>\n",
       "    </tr>\n",
       "    <tr>\n",
       "      <th>max</th>\n",
       "      <td>2.000000</td>\n",
       "      <td>298.000000</td>\n",
       "      <td>298.000000</td>\n",
       "      <td>190.000000</td>\n",
       "      <td>4.000000</td>\n",
       "      <td>8.000000</td>\n",
       "      <td>19.000000</td>\n",
       "      <td>2.000000</td>\n",
       "      <td>2.000000</td>\n",
       "      <td>2.000000</td>\n",
       "      <td>...</td>\n",
       "      <td>0.0</td>\n",
       "      <td>0.0</td>\n",
       "      <td>0.0</td>\n",
       "      <td>0.0</td>\n",
       "      <td>0.0</td>\n",
       "      <td>0.0</td>\n",
       "      <td>0.0</td>\n",
       "      <td>0.0</td>\n",
       "      <td>0.0</td>\n",
       "      <td>0.0</td>\n",
       "    </tr>\n",
       "  </tbody>\n",
       "</table>\n",
       "<p>8 rows × 178 columns</p>\n",
       "</div>"
      ],
      "text/plain": [
       "           Round  SecondsIntoRound  lastAction  SecondsLastRoundAction  \\\n",
       "count  92.000000         92.000000   92.000000               92.000000   \n",
       "mean    1.369565        121.793478  119.728261               39.119565   \n",
       "std     0.485332         79.356414   80.031327               57.544410   \n",
       "min     1.000000          1.000000    0.000000                1.000000   \n",
       "25%     1.000000         49.750000   48.750000                3.000000   \n",
       "50%     1.000000        121.000000  116.000000                8.000000   \n",
       "75%     2.000000        174.500000  172.250000               48.250000   \n",
       "max     2.000000        298.000000  298.000000              190.000000   \n",
       "\n",
       "       cmTotHitsR.X1  cmTotHitsL.X1  cmTotHitsM.X1  TotLandsX1  TotMissedX1  \\\n",
       "count      92.000000      92.000000      92.000000   92.000000    92.000000   \n",
       "mean        1.782609       4.076087       7.293478    0.152174     0.315217   \n",
       "std         1.184386       2.335741       5.685026    0.417601     0.533068   \n",
       "min         0.000000       0.000000       0.000000    0.000000     0.000000   \n",
       "25%         1.000000       2.000000       3.000000    0.000000     0.000000   \n",
       "50%         2.000000       4.000000       6.000000    0.000000     0.000000   \n",
       "75%         2.000000       6.000000      10.000000    0.000000     1.000000   \n",
       "max         4.000000       8.000000      19.000000    2.000000     2.000000   \n",
       "\n",
       "       TotReceivedX1  ...  hammer2r.X2  Cross3r.X2  Knee3r.X2  Elbow3r.X2  \\\n",
       "count      92.000000  ...         92.0        92.0       92.0        92.0   \n",
       "mean        0.086957  ...          0.0         0.0        0.0         0.0   \n",
       "std         0.319759  ...          0.0         0.0        0.0         0.0   \n",
       "min         0.000000  ...          0.0         0.0        0.0         0.0   \n",
       "25%         0.000000  ...          0.0         0.0        0.0         0.0   \n",
       "50%         0.000000  ...          0.0         0.0        0.0         0.0   \n",
       "75%         0.000000  ...          0.0         0.0        0.0         0.0   \n",
       "max         2.000000  ...          0.0         0.0        0.0         0.0   \n",
       "\n",
       "       Hook3r.X2  Jab3r.X2  Kick3r.X2  upper3r.X2  takedown3r.X2  hammer3r.X2  \n",
       "count       92.0      92.0       92.0        92.0           92.0         92.0  \n",
       "mean         0.0       0.0        0.0         0.0            0.0          0.0  \n",
       "std          0.0       0.0        0.0         0.0            0.0          0.0  \n",
       "min          0.0       0.0        0.0         0.0            0.0          0.0  \n",
       "25%          0.0       0.0        0.0         0.0            0.0          0.0  \n",
       "50%          0.0       0.0        0.0         0.0            0.0          0.0  \n",
       "75%          0.0       0.0        0.0         0.0            0.0          0.0  \n",
       "max          0.0       0.0        0.0         0.0            0.0          0.0  \n",
       "\n",
       "[8 rows x 178 columns]"
      ]
     },
     "execution_count": 318,
     "metadata": {},
     "output_type": "execute_result"
    }
   ],
   "source": [
    "df2.describe() #the simulated features to test the target hits landed of Nines using Maz's actual hits landed"
   ]
  },
  {
   "cell_type": "code",
   "execution_count": 319,
   "metadata": {},
   "outputs": [
    {
     "name": "stderr",
     "output_type": "stream",
     "text": [
      "C:\\Users\\m\\Anaconda2\\lib\\site-packages\\ipykernel_launcher.py:2: DeprecationWarning: \n",
      ".ix is deprecated. Please use\n",
      ".loc for label based indexing or\n",
      ".iloc for positional indexing\n",
      "\n",
      "See the documentation here:\n",
      "http://pandas.pydata.org/pandas-docs/stable/indexing.html#ix-indexer-is-deprecated\n",
      "  \n"
     ]
    }
   ],
   "source": [
    "#this following vector of random samples taken from a random vector created in R software sample(x,n,replace=F)\n",
    "maz = df2.ix[[36 ,62, 25, 27,  5 ,45 ,19 ,37, 90, 48, 47, 61 ,59, 82 ,88, 83 ,43 ,78 ,32, 17 ,11, 24 , 2 ,49\n",
    ",40 ,53 ,50,  6 ,51, 85 ,30, 23, 39, 80 ,22, 67, 46 ,21, 38, 58 ,16 ,35, 15, 72 ,55 ,68 , 3 ,65\n",
    ",63],:]"
   ]
  },
  {
   "cell_type": "code",
   "execution_count": 320,
   "metadata": {},
   "outputs": [
    {
     "data": {
      "text/html": [
       "<div>\n",
       "<style scoped>\n",
       "    .dataframe tbody tr th:only-of-type {\n",
       "        vertical-align: middle;\n",
       "    }\n",
       "\n",
       "    .dataframe tbody tr th {\n",
       "        vertical-align: top;\n",
       "    }\n",
       "\n",
       "    .dataframe thead th {\n",
       "        text-align: right;\n",
       "    }\n",
       "</style>\n",
       "<table border=\"1\" class=\"dataframe\">\n",
       "  <thead>\n",
       "    <tr style=\"text-align: right;\">\n",
       "      <th></th>\n",
       "      <th>Round</th>\n",
       "      <th>SecondsIntoRound</th>\n",
       "      <th>lastAction</th>\n",
       "      <th>SecondsLastRoundAction</th>\n",
       "      <th>cmTotHitsR.X1</th>\n",
       "      <th>cmTotHitsL.X1</th>\n",
       "      <th>cmTotHitsM.X1</th>\n",
       "      <th>TotLandsX1</th>\n",
       "      <th>TotMissedX1</th>\n",
       "      <th>TotReceivedX1</th>\n",
       "      <th>...</th>\n",
       "      <th>hammer2r.X2</th>\n",
       "      <th>Cross3r.X2</th>\n",
       "      <th>Knee3r.X2</th>\n",
       "      <th>Elbow3r.X2</th>\n",
       "      <th>Hook3r.X2</th>\n",
       "      <th>Jab3r.X2</th>\n",
       "      <th>Kick3r.X2</th>\n",
       "      <th>upper3r.X2</th>\n",
       "      <th>takedown3r.X2</th>\n",
       "      <th>hammer3r.X2</th>\n",
       "    </tr>\n",
       "  </thead>\n",
       "  <tbody>\n",
       "    <tr>\n",
       "      <th>count</th>\n",
       "      <td>49.000000</td>\n",
       "      <td>49.000000</td>\n",
       "      <td>49.000000</td>\n",
       "      <td>49.000000</td>\n",
       "      <td>49.000000</td>\n",
       "      <td>49.000000</td>\n",
       "      <td>49.000000</td>\n",
       "      <td>49.000000</td>\n",
       "      <td>49.000000</td>\n",
       "      <td>49.000000</td>\n",
       "      <td>...</td>\n",
       "      <td>49.0</td>\n",
       "      <td>49.0</td>\n",
       "      <td>49.0</td>\n",
       "      <td>49.0</td>\n",
       "      <td>49.0</td>\n",
       "      <td>49.0</td>\n",
       "      <td>49.0</td>\n",
       "      <td>49.0</td>\n",
       "      <td>49.0</td>\n",
       "      <td>49.0</td>\n",
       "    </tr>\n",
       "    <tr>\n",
       "      <th>mean</th>\n",
       "      <td>1.326531</td>\n",
       "      <td>126.673469</td>\n",
       "      <td>127.265306</td>\n",
       "      <td>32.081633</td>\n",
       "      <td>1.714286</td>\n",
       "      <td>4.387755</td>\n",
       "      <td>7.612245</td>\n",
       "      <td>0.204082</td>\n",
       "      <td>0.265306</td>\n",
       "      <td>0.081633</td>\n",
       "      <td>...</td>\n",
       "      <td>0.0</td>\n",
       "      <td>0.0</td>\n",
       "      <td>0.0</td>\n",
       "      <td>0.0</td>\n",
       "      <td>0.0</td>\n",
       "      <td>0.0</td>\n",
       "      <td>0.0</td>\n",
       "      <td>0.0</td>\n",
       "      <td>0.0</td>\n",
       "      <td>0.0</td>\n",
       "    </tr>\n",
       "    <tr>\n",
       "      <th>std</th>\n",
       "      <td>0.473804</td>\n",
       "      <td>80.746359</td>\n",
       "      <td>82.495398</td>\n",
       "      <td>53.648096</td>\n",
       "      <td>1.136515</td>\n",
       "      <td>2.334669</td>\n",
       "      <td>5.957545</td>\n",
       "      <td>0.455503</td>\n",
       "      <td>0.569192</td>\n",
       "      <td>0.343798</td>\n",
       "      <td>...</td>\n",
       "      <td>0.0</td>\n",
       "      <td>0.0</td>\n",
       "      <td>0.0</td>\n",
       "      <td>0.0</td>\n",
       "      <td>0.0</td>\n",
       "      <td>0.0</td>\n",
       "      <td>0.0</td>\n",
       "      <td>0.0</td>\n",
       "      <td>0.0</td>\n",
       "      <td>0.0</td>\n",
       "    </tr>\n",
       "    <tr>\n",
       "      <th>min</th>\n",
       "      <td>1.000000</td>\n",
       "      <td>10.000000</td>\n",
       "      <td>4.000000</td>\n",
       "      <td>1.000000</td>\n",
       "      <td>0.000000</td>\n",
       "      <td>0.000000</td>\n",
       "      <td>0.000000</td>\n",
       "      <td>0.000000</td>\n",
       "      <td>0.000000</td>\n",
       "      <td>0.000000</td>\n",
       "      <td>...</td>\n",
       "      <td>0.0</td>\n",
       "      <td>0.0</td>\n",
       "      <td>0.0</td>\n",
       "      <td>0.0</td>\n",
       "      <td>0.0</td>\n",
       "      <td>0.0</td>\n",
       "      <td>0.0</td>\n",
       "      <td>0.0</td>\n",
       "      <td>0.0</td>\n",
       "      <td>0.0</td>\n",
       "    </tr>\n",
       "    <tr>\n",
       "      <th>25%</th>\n",
       "      <td>1.000000</td>\n",
       "      <td>49.000000</td>\n",
       "      <td>63.000000</td>\n",
       "      <td>3.000000</td>\n",
       "      <td>1.000000</td>\n",
       "      <td>2.000000</td>\n",
       "      <td>3.000000</td>\n",
       "      <td>0.000000</td>\n",
       "      <td>0.000000</td>\n",
       "      <td>0.000000</td>\n",
       "      <td>...</td>\n",
       "      <td>0.0</td>\n",
       "      <td>0.0</td>\n",
       "      <td>0.0</td>\n",
       "      <td>0.0</td>\n",
       "      <td>0.0</td>\n",
       "      <td>0.0</td>\n",
       "      <td>0.0</td>\n",
       "      <td>0.0</td>\n",
       "      <td>0.0</td>\n",
       "      <td>0.0</td>\n",
       "    </tr>\n",
       "    <tr>\n",
       "      <th>50%</th>\n",
       "      <td>1.000000</td>\n",
       "      <td>129.000000</td>\n",
       "      <td>125.000000</td>\n",
       "      <td>7.000000</td>\n",
       "      <td>2.000000</td>\n",
       "      <td>5.000000</td>\n",
       "      <td>6.000000</td>\n",
       "      <td>0.000000</td>\n",
       "      <td>0.000000</td>\n",
       "      <td>0.000000</td>\n",
       "      <td>...</td>\n",
       "      <td>0.0</td>\n",
       "      <td>0.0</td>\n",
       "      <td>0.0</td>\n",
       "      <td>0.0</td>\n",
       "      <td>0.0</td>\n",
       "      <td>0.0</td>\n",
       "      <td>0.0</td>\n",
       "      <td>0.0</td>\n",
       "      <td>0.0</td>\n",
       "      <td>0.0</td>\n",
       "    </tr>\n",
       "    <tr>\n",
       "      <th>75%</th>\n",
       "      <td>2.000000</td>\n",
       "      <td>180.000000</td>\n",
       "      <td>179.000000</td>\n",
       "      <td>26.000000</td>\n",
       "      <td>2.000000</td>\n",
       "      <td>6.000000</td>\n",
       "      <td>12.000000</td>\n",
       "      <td>0.000000</td>\n",
       "      <td>0.000000</td>\n",
       "      <td>0.000000</td>\n",
       "      <td>...</td>\n",
       "      <td>0.0</td>\n",
       "      <td>0.0</td>\n",
       "      <td>0.0</td>\n",
       "      <td>0.0</td>\n",
       "      <td>0.0</td>\n",
       "      <td>0.0</td>\n",
       "      <td>0.0</td>\n",
       "      <td>0.0</td>\n",
       "      <td>0.0</td>\n",
       "      <td>0.0</td>\n",
       "    </tr>\n",
       "    <tr>\n",
       "      <th>max</th>\n",
       "      <td>2.000000</td>\n",
       "      <td>287.000000</td>\n",
       "      <td>298.000000</td>\n",
       "      <td>185.000000</td>\n",
       "      <td>4.000000</td>\n",
       "      <td>8.000000</td>\n",
       "      <td>17.000000</td>\n",
       "      <td>2.000000</td>\n",
       "      <td>2.000000</td>\n",
       "      <td>2.000000</td>\n",
       "      <td>...</td>\n",
       "      <td>0.0</td>\n",
       "      <td>0.0</td>\n",
       "      <td>0.0</td>\n",
       "      <td>0.0</td>\n",
       "      <td>0.0</td>\n",
       "      <td>0.0</td>\n",
       "      <td>0.0</td>\n",
       "      <td>0.0</td>\n",
       "      <td>0.0</td>\n",
       "      <td>0.0</td>\n",
       "    </tr>\n",
       "  </tbody>\n",
       "</table>\n",
       "<p>8 rows × 178 columns</p>\n",
       "</div>"
      ],
      "text/plain": [
       "           Round  SecondsIntoRound  lastAction  SecondsLastRoundAction  \\\n",
       "count  49.000000         49.000000   49.000000               49.000000   \n",
       "mean    1.326531        126.673469  127.265306               32.081633   \n",
       "std     0.473804         80.746359   82.495398               53.648096   \n",
       "min     1.000000         10.000000    4.000000                1.000000   \n",
       "25%     1.000000         49.000000   63.000000                3.000000   \n",
       "50%     1.000000        129.000000  125.000000                7.000000   \n",
       "75%     2.000000        180.000000  179.000000               26.000000   \n",
       "max     2.000000        287.000000  298.000000              185.000000   \n",
       "\n",
       "       cmTotHitsR.X1  cmTotHitsL.X1  cmTotHitsM.X1  TotLandsX1  TotMissedX1  \\\n",
       "count      49.000000      49.000000      49.000000   49.000000    49.000000   \n",
       "mean        1.714286       4.387755       7.612245    0.204082     0.265306   \n",
       "std         1.136515       2.334669       5.957545    0.455503     0.569192   \n",
       "min         0.000000       0.000000       0.000000    0.000000     0.000000   \n",
       "25%         1.000000       2.000000       3.000000    0.000000     0.000000   \n",
       "50%         2.000000       5.000000       6.000000    0.000000     0.000000   \n",
       "75%         2.000000       6.000000      12.000000    0.000000     0.000000   \n",
       "max         4.000000       8.000000      17.000000    2.000000     2.000000   \n",
       "\n",
       "       TotReceivedX1  ...  hammer2r.X2  Cross3r.X2  Knee3r.X2  Elbow3r.X2  \\\n",
       "count      49.000000  ...         49.0        49.0       49.0        49.0   \n",
       "mean        0.081633  ...          0.0         0.0        0.0         0.0   \n",
       "std         0.343798  ...          0.0         0.0        0.0         0.0   \n",
       "min         0.000000  ...          0.0         0.0        0.0         0.0   \n",
       "25%         0.000000  ...          0.0         0.0        0.0         0.0   \n",
       "50%         0.000000  ...          0.0         0.0        0.0         0.0   \n",
       "75%         0.000000  ...          0.0         0.0        0.0         0.0   \n",
       "max         2.000000  ...          0.0         0.0        0.0         0.0   \n",
       "\n",
       "       Hook3r.X2  Jab3r.X2  Kick3r.X2  upper3r.X2  takedown3r.X2  hammer3r.X2  \n",
       "count       49.0      49.0       49.0        49.0           49.0         49.0  \n",
       "mean         0.0       0.0        0.0         0.0            0.0          0.0  \n",
       "std          0.0       0.0        0.0         0.0            0.0          0.0  \n",
       "min          0.0       0.0        0.0         0.0            0.0          0.0  \n",
       "25%          0.0       0.0        0.0         0.0            0.0          0.0  \n",
       "50%          0.0       0.0        0.0         0.0            0.0          0.0  \n",
       "75%          0.0       0.0        0.0         0.0            0.0          0.0  \n",
       "max          0.0       0.0        0.0         0.0            0.0          0.0  \n",
       "\n",
       "[8 rows x 178 columns]"
      ]
     },
     "execution_count": 320,
     "metadata": {},
     "output_type": "execute_result"
    }
   ],
   "source": [
    "maz.describe()"
   ]
  },
  {
   "cell_type": "code",
   "execution_count": 321,
   "metadata": {},
   "outputs": [
    {
     "data": {
      "text/plain": [
       "(49, 182)"
      ]
     },
     "execution_count": 321,
     "metadata": {},
     "output_type": "execute_result"
    }
   ],
   "source": [
    "maz.shape"
   ]
  },
  {
   "cell_type": "code",
   "execution_count": 322,
   "metadata": {},
   "outputs": [
    {
     "data": {
      "text/plain": [
       "(49L,)"
      ]
     },
     "execution_count": 322,
     "metadata": {},
     "output_type": "execute_result"
    }
   ],
   "source": [
    "y_test1 = maz.iloc[:,7].values\n",
    "y_test1.shape"
   ]
  },
  {
   "cell_type": "code",
   "execution_count": 323,
   "metadata": {},
   "outputs": [],
   "source": [
    "X_train_std = X_train_scaled #Nunez training samples to build model\n",
    "X_test_std = X_test_scaled #Nunez testing set"
   ]
  },
  {
   "cell_type": "code",
   "execution_count": 324,
   "metadata": {},
   "outputs": [
    {
     "data": {
      "text/plain": [
       "array([[  1, 195, 193, ...,   0,   0,   0],\n",
       "       [  1, 138, 135, ...,   0,   0,   0],\n",
       "       [  1,  80,  77, ...,   0,   0,   0],\n",
       "       ...,\n",
       "       [  1,  13,   9, ...,   0,   0,   0],\n",
       "       [  1,  45,  44, ...,   0,   0,   0],\n",
       "       [  1,  37,  34, ...,   0,   0,   0]], dtype=int64)"
      ]
     },
     "execution_count": 324,
     "metadata": {},
     "output_type": "execute_result"
    }
   ],
   "source": [
    "X_testN = X_test #Nunez, use this later\n",
    "X_testN"
   ]
  },
  {
   "cell_type": "code",
   "execution_count": 325,
   "metadata": {},
   "outputs": [
    {
     "name": "stdout",
     "output_type": "stream",
     "text": [
      "[[  1 157 153 ...   0   0   0]\n",
      " [  2  21  20 ...   0   0   0]\n",
      " [  1 120 110 ...   0   0   0]\n",
      " ...\n",
      " [  1  13  12 ...   0   0   0]\n",
      " [  2  40  38 ...   0   0   0]\n",
      " [  2  26  21 ...   0   0   0]]\n"
     ]
    }
   ],
   "source": [
    "X_test = maz.iloc[:,[0,1,2,3,4,5,6,8,9,10,11,12,\n",
    "               13,14,47,48,49,50,51,52,53,54,\n",
    "               55,56,57,58,59,60,61,62,63,64,65,66,67,68,69,70,\n",
    "               71,72,73,74,75,76,77,78,79,80,81,82,83,84,85,86,87,\n",
    "               88,89,90,91,92,93,94,95,96,97,98,99,100,101,102,103,\n",
    "               104,105,106,107,108,109,110,111,112,113,114,115,116,\n",
    "               117,118,119,120,121,122,123,124,125,126,127,128,129,\n",
    "               130,131,132,133,134,135,136,137,138,139,140,141,142,\n",
    "               143,144,145,146,147,148,149,150,151,152,153,154,155]].values \n",
    "X_testM = X_test\n",
    "print X_testM\n",
    "X_test_scaled  = stdscaler.transform(X_test) #normalize the maz simulated instances for testing Nunez's hits landed\n"
   ]
  },
  {
   "cell_type": "code",
   "execution_count": 326,
   "metadata": {},
   "outputs": [
    {
     "data": {
      "text/plain": [
       "(49L, 123L)"
      ]
     },
     "execution_count": 326,
     "metadata": {},
     "output_type": "execute_result"
    }
   ],
   "source": [
    "X_test_scaled.shape #Maz testing set"
   ]
  },
  {
   "cell_type": "code",
   "execution_count": 327,
   "metadata": {},
   "outputs": [
    {
     "data": {
      "text/plain": [
       "Index([u'Round', u'SecondsIntoRound', u'lastAction', u'SecondsLastRoundAction',\n",
       "       u'cmTotHitsR.X1', u'cmTotHitsL.X1', u'cmTotHitsM.X1', u'TotLandsX1',\n",
       "       u'TotMissedX1', u'TotReceivedX1',\n",
       "       ...\n",
       "       u'hammer2r.X2', u'Cross3r.X2', u'Knee3r.X2', u'Elbow3r.X2',\n",
       "       u'Hook3r.X2', u'Jab3r.X2', u'Kick3r.X2', u'upper3r.X2',\n",
       "       u'takedown3r.X2', u'hammer3r.X2'],\n",
       "      dtype='object', length=182)"
      ]
     },
     "execution_count": 327,
     "metadata": {},
     "output_type": "execute_result"
    }
   ],
   "source": [
    "maz.columns"
   ]
  },
  {
   "cell_type": "code",
   "execution_count": 328,
   "metadata": {},
   "outputs": [
    {
     "name": "stdout",
     "output_type": "stream",
     "text": [
      "[0 0 0 0 1 0 0 0 0 0 1 0 0 1 0 0 0 0 0 0 0 0 1 0 0 0 0 1 1 0 0 0 0 2 0 0 0\n",
      " 0 2 0 0 0 0 0 1 0 0 1 0]\n",
      "[0 1 0 0 0 0 0 0 0 1 0 0 1 0 1 1 0 0 0 0 2 0 0 0 0 0 0 0 0 0 0 1 0 0 0 0 1\n",
      " 0 0 0 1 0 0 0 0 0 0 0 0]\n"
     ]
    }
   ],
   "source": [
    "print y_test #Nunez's hits landed in her testing set of instances\n",
    "print y_test1 #Maz's hits landed in his testing set of instances"
   ]
  },
  {
   "cell_type": "markdown",
   "metadata": {},
   "source": [
    "### KNN"
   ]
  },
  {
   "cell_type": "code",
   "execution_count": 329,
   "metadata": {},
   "outputs": [
    {
     "name": "stdout",
     "output_type": "stream",
     "text": [
      "Wall time: 0 ns\n"
     ]
    },
    {
     "data": {
      "text/plain": [
       "KNeighborsClassifier(algorithm='auto', leaf_size=30, metric='minkowski',\n",
       "           metric_params=None, n_jobs=None, n_neighbors=5, p=2,\n",
       "           weights='uniform')"
      ]
     },
     "execution_count": 329,
     "metadata": {},
     "output_type": "execute_result"
    }
   ],
   "source": [
    "import matplotlib.pyplot as plt\n",
    "from sklearn.neighbors import KNeighborsClassifier\n",
    "% time\n",
    "knn = KNeighborsClassifier()\n",
    "knn.fit(X_train_std,\n",
    "        y_train) #train Nunez's model on a sample of her instances"
   ]
  },
  {
   "cell_type": "code",
   "execution_count": 330,
   "metadata": {},
   "outputs": [
    {
     "name": "stdout",
     "output_type": "stream",
     "text": [
      "Wall time: 0 ns\n"
     ]
    }
   ],
   "source": [
    "% time\n",
    "y_pred = knn.predict(X_test_std)#Nunez test samples\n",
    "y_pred2 = knn.predict(X_test_scaled)#Maz test samples"
   ]
  },
  {
   "cell_type": "code",
   "execution_count": 333,
   "metadata": {},
   "outputs": [
    {
     "name": "stdout",
     "output_type": "stream",
     "text": [
      "Wall time: 0 ns\n"
     ]
    }
   ],
   "source": [
    "% time\n",
    "y_predN = knn.predict(X_testN)#Nunez test samples\n",
    "y_predM = knn.predict(X_testM)#Maz test samples"
   ]
  },
  {
   "cell_type": "code",
   "execution_count": 335,
   "metadata": {},
   "outputs": [
    {
     "name": "stdout",
     "output_type": "stream",
     "text": [
      "[0 0 0 0 0 0 0 0 0 0 0 0 0 0 0 0 0 0 0 0 0 0 0 0 0 0 0 0 0 0 0 0 0 0 0 0 0\n",
      " 0 0 0 0 0 0 0 0 0 0 0 0]\n",
      "[0 0 0 0 0 0 0 0 0 0 0 0 0 0 0 0 0 0 0 0 0 0 0 0 0 0 0 0 0 0 0 0 0 0 0 0 0\n",
      " 0 0 0 0 0 0 0 0 0 0 0 0]\n"
     ]
    }
   ],
   "source": [
    "#if the test samples aren't scaled, the results for KNN predictions are worse as this shows\n",
    "print y_predN\n",
    "print y_predM"
   ]
  },
  {
   "cell_type": "code",
   "execution_count": 336,
   "metadata": {},
   "outputs": [
    {
     "name": "stdout",
     "output_type": "stream",
     "text": [
      "(49L,)\n",
      "(49L,)\n",
      "(49L,)\n",
      "(49L,)\n"
     ]
    }
   ],
   "source": [
    "print y_pred.shape\n",
    "print y_pred2.shape\n",
    "print y_test.shape #these are Nunez's true test sample hits landed\n",
    "print y_test1.shape #these are Maz's true test sample hits landed"
   ]
  },
  {
   "cell_type": "code",
   "execution_count": 363,
   "metadata": {},
   "outputs": [
    {
     "name": "stdout",
     "output_type": "stream",
     "text": [
      "Nunez true hits landed:\n",
      "[0 0 0 0 1 0 0 0 0 0 1 0 0 1 0 0 0 0 0 0 0 0 1 0 0 0 0 1 1 0 0 0 0 2 0 0 0\n",
      " 0 2 0 0 0 0 0 1 0 0 1 0]\n",
      "The actual hits landed in Nunez testing set is:  12 out of  49 samples.\n",
      "\n",
      "\n",
      "\n",
      "Mazvidal true hits landed:\n",
      "[0 1 0 0 0 0 0 0 0 1 0 0 1 0 1 1 0 0 0 0 2 0 0 0 0 0 0 0 0 0 0 1 0 0 0 0 1\n",
      " 0 0 0 1 0 0 0 0 0 0 0 0]\n",
      "and the actual hits landed in the Mazvidal testing set is:  10 out of  49 samples.\n",
      "\n",
      "\n",
      "\n",
      "The accuracies are based on correctly predicting if the instance predicts a hit landed (1) or a hit not landed (0)\n",
      "If you guess 0 for every one of the instances,\n",
      "then the accuracy for Mazvidal is:  80.0 %.\n",
      "And the accuracy for Nunez is:  76.0 %.\n",
      "\n",
      "Nunez predicted with Nunez Training [0 0 0 0 1 0 0 0 0 0 0 0 0 0 0 0 0 0 0 0 0 0 0 0 0 0 0 0 0 0 0 0 0 0 0 0 0\n",
      " 0 0 0 0 0 0 0 0 0 0 0 0] \n",
      "\n",
      "Maz predicted with Nunez training [1 0 0 1 0 0 0 0 0 0 0 0 0 0 0 0 0 0 0 0 0 0 0 0 0 1 0 0 0 0 1 1 1 0 1 0 1\n",
      " 1 1 0 0 1 0 0 0 0 0 0 0] \n",
      "\n",
      "The instances that the Maz test predictions equaled the Mazvidal true hits landed \n",
      "but also shows how similar Nunez actions or reactions are to Mazvidal:  33\n",
      "Accuracy:  0.673469387755102 \n",
      "\n",
      "The instances that the Nunez test predictions equaled the Nunez true hits landed: \n",
      "This shows how well the model trained will predict on the samples derived from the same set 40\n",
      "Accuracy:  0.8163265306122449 \n",
      "\n",
      "\n",
      "The instances that the Nunez test predictions equaled the Maz test predictions set:  37\n",
      "Accuracy:  0.7551020408163265 \n",
      "\n",
      "The instances that the Nunez test predictions equaled the Maz true hits landed:  40\n",
      "Accuracy:  0.8163265306122449 \n",
      "\n"
     ]
    }
   ],
   "source": [
    "y_pred\n",
    "y_pred2\n",
    "\n",
    "\n",
    "print 'Nunez true hits landed:\\n',y_test\n",
    "print 'The actual hits landed in Nunez testing set is: ', sum(y_test), 'out of ',len(y_test),'samples.\\n'\n",
    "\n",
    "print '\\n\\n', 'Mazvidal true hits landed:\\n',y_test1\n",
    "print 'and the actual hits landed in the Mazvidal testing set is: ', sum(y_test1), 'out of ',len(y_test1),'samples.\\n'\n",
    "\n",
    "s = float(sum(y_test1))\n",
    "l = float(len(y_test1))\n",
    "S = float(sum(y_test))\n",
    "L = float(len(y_test))\n",
    "\n",
    "print '\\n\\nThe accuracies are based on correctly predicting if the instance predicts a hit landed (1) or a hit not landed (0)'\n",
    "print 'If you guess 0 for every one of the instances,'\n",
    "print 'then the accuracy for Mazvidal is: ', round(((l-s)/(l)),2)*100,'%.'\n",
    "print 'And the accuracy for Nunez is: ', round(((L-S)/(L)),2)*100,'%.\\n'\n",
    "\n",
    "print 'Nunez predicted with Nunez Training',y_pred,'\\n\\n' , 'Maz predicted with Nunez training',y_pred2, '\\n'\n",
    "\n",
    "print 'The instances that the Maz test predictions equaled the Mazvidal true hits landed '\n",
    "print 'but also shows how similar Nunez actions or reactions are to Mazvidal: ', sum(y_pred2==y_test1)\n",
    "print 'Accuracy: ',accuracy_score(y_pred2, y_test1),'\\n'\n",
    "\n",
    "print 'The instances that the Nunez test predictions equaled the Nunez true hits landed: '\n",
    "print 'This shows how well the model trained will predict on the samples derived from the same set', sum(y_pred==y_test)\n",
    "print 'Accuracy: ',accuracy_score(y_pred, y_test),'\\n'\n",
    "\n",
    "print '\\nThe instances that the Nunez test predictions equaled the Maz test predictions set: ', sum(y_pred==y_pred2)\n",
    "print 'Accuracy: ',accuracy_score(y_pred, y_pred2),'\\n'\n",
    "\n",
    "print 'The instances that the Nunez test predictions equaled the Maz true hits landed: ', sum(y_pred==y_test)\n",
    "print 'Accuracy: ',accuracy_score(y_pred, y_test),'\\n'\n",
    "\n"
   ]
  },
  {
   "cell_type": "code",
   "execution_count": 364,
   "metadata": {},
   "outputs": [],
   "source": [
    "from pandas import Series, DataFrame\n",
    "d = pd.Series(y_pred)\n",
    "m = pd.Series(y_pred2)\n",
    "t = pd.Series(y_test)\n",
    "z = pd.Series(y_test1)\n",
    "\n",
    "df3 = pd.concat([d,m,t,z], axis=1)\n",
    "df3.columns = ['NunezPredicted', 'MazPredicted', 'NunezRealHits','MazRealHits']\n",
    "\n",
    "ad = pd.Series(round(accuracy_score(y_pred, y_test),2))\n",
    "am = pd.Series(round(accuracy_score(y_pred, y_pred2),2))\n",
    "at = pd.Series(round(accuracy_score(y_test, y_test),2))\n",
    "az = pd.Series(round(accuracy_score(y_test1,y_test1),2))\n",
    "\n",
    "df4 = pd.concat([ad,am,at,az],axis=1)#creates a vector of 1X4 for KNN results concatenating along columns\n",
    "df4.columns = ['NunezPredicted', 'MazPredicted', 'NunezRealHits','MazRealHits']\n",
    "df4.index = ['KNN results%']#gives the row name of this 1X4 data frame\n",
    "\n",
    "df5 = pd.concat([df3,df4], axis=0)#concatenates along the rows for the results and scores\n",
    "\n"
   ]
  },
  {
   "cell_type": "code",
   "execution_count": 365,
   "metadata": {},
   "outputs": [
    {
     "data": {
      "text/plain": [
       "Index([u'NunezPredicted', u'MazPredicted', u'NunezRealHits', u'MazRealHits'], dtype='object')"
      ]
     },
     "execution_count": 365,
     "metadata": {},
     "output_type": "execute_result"
    }
   ],
   "source": [
    "df5.columns"
   ]
  },
  {
   "cell_type": "code",
   "execution_count": 366,
   "metadata": {},
   "outputs": [
    {
     "name": "stdout",
     "output_type": "stream",
     "text": [
      "    MazPredicted  MazRealHits\n",
      "1              0            1\n",
      "9              0            1\n",
      "12             0            1\n",
      "14             0            1\n",
      "15             0            1\n",
      "20             0            2\n",
      "31             1            1\n",
      "36             1            1\n",
      "40             0            1\n"
     ]
    }
   ],
   "source": [
    "# This table shows how many of the actualy hits landed in the testing set for Maz were predicted and their index number\n",
    "MazHits = df3.loc[(df3.MazRealHits >0), ['MazPredicted','MazRealHits']]#Maz's set wasn't trained, this is how similar Nunez is to Maz\n",
    "# according to KNN algorithm\n",
    "print MazHits"
   ]
  },
  {
   "cell_type": "code",
   "execution_count": 367,
   "metadata": {},
   "outputs": [
    {
     "name": "stdout",
     "output_type": "stream",
     "text": [
      "[ 1  9 12 14 15 20 31 36 40]\n",
      "[36 62 25 27  5 45 19 37 90 48 47 61 59 82 88 83 43 78 32 17 11 24  2 49\n",
      " 40 53 50  6 51 85 30 23 39 80 22 67 46 21 38 58 16 35 15 72 55 68  3 65\n",
      " 63]\n"
     ]
    }
   ],
   "source": [
    "MazHitsRows = MazHits.index.values\n",
    "print MazHitsRows\n",
    "print maz.index.values\n"
   ]
  },
  {
   "cell_type": "code",
   "execution_count": 368,
   "metadata": {},
   "outputs": [
    {
     "name": "stdout",
     "output_type": "stream",
     "text": [
      "[ 1  9 12 14 15 20 31 36 40]\n",
      "[62 48 59 88 83 11 23 46 16]\n",
      "[ 1  9 12 14 15 20 31 36 40]\n"
     ]
    }
   ],
   "source": [
    "mazHits = maz.iloc[[1,9,12,14,15,20,31,36,40],0:183]#extracts the same rows, but has different labels from original Maz df\n",
    "MazTotalKNN = pd.concat([MazHits,mazHits], axis=1)#concatenates the testing hits of Maz with all other fields, different row names\n",
    "print MazHits.index.values\n",
    "print mazHits.index.values\n",
    "\n",
    "Maz_new = mazHits.rename(index={62:1,48:9,59:12,88:14,83:15,11:20,23:31,46:36,16:40})\n",
    "print Maz_new.index.values"
   ]
  },
  {
   "cell_type": "code",
   "execution_count": 369,
   "metadata": {},
   "outputs": [
    {
     "data": {
      "text/plain": [
       "1     1\n",
       "9     1\n",
       "12    1\n",
       "14    1\n",
       "15    1\n",
       "20    2\n",
       "31    1\n",
       "36    1\n",
       "40    1\n",
       "Name: TotLandsX1, dtype: int64"
      ]
     },
     "execution_count": 369,
     "metadata": {},
     "output_type": "execute_result"
    }
   ],
   "source": [
    "Maz_new.iloc[:,7]"
   ]
  },
  {
   "cell_type": "code",
   "execution_count": 370,
   "metadata": {},
   "outputs": [
    {
     "name": "stdout",
     "output_type": "stream",
     "text": [
      "Predicted Hits landed:  2.0\n",
      "Actual Hits landed:  10.0\n",
      "Accuracy in Predicting Hits Landed of True Hits landed:  20.0 %\n",
      "\n",
      "    MazPredicted  MazRealHits  Round  SecondsIntoRound  lastAction  \\\n",
      "1              0            1      2                21          20   \n",
      "9              0            1      1               245         238   \n",
      "12             0            1      2                16          10   \n",
      "14             0            1      2               182         179   \n",
      "15             0            1      2               154         151   \n",
      "20             0            2      1                49          48   \n",
      "31             1            1      1                95          94   \n",
      "36             1            1      1               235         234   \n",
      "40             0            1      1                67          66   \n",
      "\n",
      "    SecondsLastRoundAction  cmTotHitsR.X1  cmTotHitsL.X1  cmTotHitsM.X1  \\\n",
      "1                       21              0              2              0   \n",
      "9                        7              2              8             17   \n",
      "12                      16              0              1              0   \n",
      "14                     182              4              6             10   \n",
      "15                     154              3              5              9   \n",
      "20                       1              2              3              1   \n",
      "31                       1              2              5              3   \n",
      "36                       1              2              7             16   \n",
      "40                       1              2              4              3   \n",
      "\n",
      "    TotLandsX1  ...  hammer2r.X2  Cross3r.X2  Knee3r.X2  Elbow3r.X2  \\\n",
      "1            1  ...            0           0          0           0   \n",
      "9            1  ...            0           0          0           0   \n",
      "12           1  ...            0           0          0           0   \n",
      "14           1  ...            0           0          0           0   \n",
      "15           1  ...            0           0          0           0   \n",
      "20           2  ...            0           0          0           0   \n",
      "31           1  ...            0           0          0           0   \n",
      "36           1  ...            0           0          0           0   \n",
      "40           1  ...            0           0          0           0   \n",
      "\n",
      "    Hook3r.X2  Jab3r.X2  Kick3r.X2  upper3r.X2 takedown3r.X2 hammer3r.X2  \n",
      "1           0         0          0           0             0           0  \n",
      "9           0         0          0           0             0           0  \n",
      "12          0         0          0           0             0           0  \n",
      "14          0         0          0           0             0           0  \n",
      "15          0         0          0           0             0           0  \n",
      "20          0         0          0           0             0           0  \n",
      "31          0         0          0           0             0           0  \n",
      "36          0         0          0           0             0           0  \n",
      "40          0         0          0           0             0           0  \n",
      "\n",
      "[9 rows x 184 columns]\n"
     ]
    }
   ],
   "source": [
    "MazTotalKNN = pd.concat([MazHits, Maz_new], axis=1)#concatenates \n",
    "predicted = MazTotalKNN.iloc[:,0]\n",
    "actual = MazTotalKNN.iloc[:,1]\n",
    "print 'Predicted Hits landed: ', float(sum(predicted))\n",
    "print 'Actual Hits landed: ',float(sum(actual))\n",
    "print 'Accuracy in Predicting Hits Landed of True Hits landed: ', round((float(sum(predicted))/float(sum(actual)))*100,2),'%\\n'\n",
    "print MazTotalKNN\n",
    "\n",
    "MazTotalKNN.to_csv('MazTestSetUsingNunez_KNN_results.csv')"
   ]
  },
  {
   "cell_type": "code",
   "execution_count": 371,
   "metadata": {},
   "outputs": [
    {
     "name": "stdout",
     "output_type": "stream",
     "text": [
      "    NunezPredicted  NunezRealHits\n",
      "4                1              1\n",
      "10               0              1\n",
      "13               0              1\n",
      "22               0              1\n",
      "27               0              1\n",
      "28               0              1\n",
      "33               0              2\n",
      "38               0              2\n",
      "44               0              1\n",
      "47               0              1\n",
      "\n",
      "These are the columns selected to train:\n",
      "Index([u'Round', u'SecondsIntoRound', u'lastAction', u'SecondsLastRoundAction',\n",
      "       u'cmTotHitsR.X1', u'cmTotHitsL.X1', u'cmTotHitsM.X1', u'TotMissedX1',\n",
      "       u'TotReceivedX1', u'cmTotHitsR.X2',\n",
      "       ...\n",
      "       u'Cross3r.X1', u'Knee3r.X1', u'Elbow3r.X1', u'Hook3r.X1', u'Jab3r.X1',\n",
      "       u'Kick3r.X1', u'upper3r.X1', u'takedown3r.X1', u'hammer3r.X1',\n",
      "       u'Crossr.X2'],\n",
      "      dtype='object', length=123) \n",
      "\n",
      "Nunez Testing set row names: \n",
      "[ 0  1  2  3  4  5  6  7  8  9 10 11 12 13 14 15 16 17 18 19 20 21 22 23\n",
      " 24 25 26 27 28 29 30 31 32 33 34 35 36 37 38 39 40 41 42 43 44 45 46 47\n",
      " 48] \n",
      "\n",
      "The Nunez test set rows having a hit landed:  [ 4 10 13 22 27 28 33 38 44 47] \n",
      "\n",
      "\n",
      "This is the table of the testing set for Nunez with instances where a hit was landed: \n",
      "\n",
      "    Round  SecondsIntoRound  lastAction  SecondsLastRoundAction  \\\n",
      "4       1                37          20                      17   \n",
      "10      1               238         235                       3   \n",
      "13      2               151         138                     151   \n",
      "22      1                12           4                       8   \n",
      "27      1                41          37                       4   \n",
      "28      1               255         251                       4   \n",
      "33      2               130         125                     130   \n",
      "38      1               172         169                       3   \n",
      "44      1               287         284                       3   \n",
      "47      2                40          38                      40   \n",
      "\n",
      "    cmTotHitsR.X1  cmTotHitsL.X1  cmTotHitsM.X1  TotMissedX1  TotReceivedX1  \\\n",
      "4               0              1              0            0              0   \n",
      "10              2              7             17            1              0   \n",
      "13              3              4              9            0              0   \n",
      "22              0              1              0            0              0   \n",
      "27              1              1              0            0              1   \n",
      "28              2              8             17            0              0   \n",
      "33              3              2              9            0              0   \n",
      "38              2              6             12            0              0   \n",
      "44              4              8             17            0              2   \n",
      "47              0              2              4            2              0   \n",
      "\n",
      "    cmTotHitsR.X2  ...  Cross3r.X1  Knee3r.X1  Elbow3r.X1  Hook3r.X1  \\\n",
      "4               1  ...           0          0           0          0   \n",
      "10              9  ...           0          0           0          0   \n",
      "13              4  ...           0          0           0          0   \n",
      "22              1  ...           0          0           0          0   \n",
      "27              1  ...           0          0           0          0   \n",
      "28             10  ...           0          0           0          0   \n",
      "33              2  ...           0          0           0          0   \n",
      "38              7  ...           0          0           0          0   \n",
      "44             10  ...           0          0           0          0   \n",
      "47              2  ...           0          0           0          0   \n",
      "\n",
      "    Jab3r.X1  Kick3r.X1  upper3r.X1  takedown3r.X1  hammer3r.X1  Crossr.X2  \n",
      "4          0          0           0              0            0          0  \n",
      "10         0          0           0              0            0          0  \n",
      "13         0          0           0              0            0          0  \n",
      "22         0          0           0              0            0          0  \n",
      "27         0          0           0              0            0          0  \n",
      "28         0          0           0              0            0          0  \n",
      "33         0          0           0              0            0          0  \n",
      "38         0          0           0              0            0          0  \n",
      "44         0          0           0              0            0          0  \n",
      "47         0          0           0              0            0          0  \n",
      "\n",
      "[10 rows x 123 columns] \n",
      "\n",
      "[0 0 0 0 1 0 0 0 0 0 1 0 0 1 0 0 0 0 0 0 0 0 1 0 0 0 0 1 1 0 0 0 0 2 0 0 0\n",
      " 0 2 0 0 0 0 0 1 0 0 1 0]\n"
     ]
    }
   ],
   "source": [
    "# this shows how many hits landed were in the Nunez testing set and the predicted values for corresponding index values\n",
    "NunezHits = df3.loc[(df3.NunezRealHits >0), ['NunezPredicted','NunezRealHits']]\n",
    "print NunezHits #testing set of Nunez hits landed\n",
    "\n",
    "#dfn is the columns used in the Nunez testing and training sets\n",
    "# X_test_std is the Nunez testing set as an array that is scaled, keep the original non-scaled 'X_test'\n",
    "\n",
    "colnames = dfn.columns #creates a vector of names from the Nunez testing and training set columns used/selected\n",
    "\n",
    "print '\\nThese are the columns selected to train:\\n',colnames,'\\n'\n",
    "\n",
    "X_Nunez = pd.DataFrame(X_test)# don't use the scaled version, it has negative values\n",
    "\n",
    "print 'Nunez Testing set row names: \\n', X_Nunez.index.values,'\\n'\n",
    "print 'The Nunez test set rows having a hit landed: ', NunezHits.index.values,'\\n'\n",
    "\n",
    "X_Nunez.columns = colnames #add colunmn names to the array turned data frame that has numeric field names\n",
    "X_Nunez1 = X_Nunez.iloc[[4,10,13,22,27,28,33,38,44,47],:]#select only those rows that had hits land for Nunez test samples\n",
    "\n",
    "print '\\nThis is the table of the testing set for Nunez with instances where a hit was landed: \\n\\n', X_Nunez1,'\\n'\n",
    "print y_test # zero indexed 0:48 for 49 samples, these are 1:1 values for this testing set sample of Nunez\n",
    "\n",
    "\n",
    "\n"
   ]
  },
  {
   "cell_type": "code",
   "execution_count": 372,
   "metadata": {},
   "outputs": [
    {
     "name": "stdout",
     "output_type": "stream",
     "text": [
      "KNN Accuracy is the predicted,  1.0  divided by the actual,  12.0  hits:  8.0 %\n",
      "\n",
      "    NunezPredicted  NunezRealHits  Round  SecondsIntoRound  lastAction  \\\n",
      "4                1              1      1                37          20   \n",
      "10               0              1      1               238         235   \n",
      "13               0              1      2               151         138   \n",
      "22               0              1      1                12           4   \n",
      "27               0              1      1                41          37   \n",
      "28               0              1      1               255         251   \n",
      "33               0              2      2               130         125   \n",
      "38               0              2      1               172         169   \n",
      "44               0              1      1               287         284   \n",
      "47               0              1      2                40          38   \n",
      "\n",
      "    SecondsLastRoundAction  cmTotHitsR.X1  cmTotHitsL.X1  cmTotHitsM.X1  \\\n",
      "4                       17              0              1              0   \n",
      "10                       3              2              7             17   \n",
      "13                     151              3              4              9   \n",
      "22                       8              0              1              0   \n",
      "27                       4              1              1              0   \n",
      "28                       4              2              8             17   \n",
      "33                     130              3              2              9   \n",
      "38                       3              2              6             12   \n",
      "44                       3              4              8             17   \n",
      "47                      40              0              2              4   \n",
      "\n",
      "    TotMissedX1  ...  Cross3r.X1  Knee3r.X1  Elbow3r.X1  Hook3r.X1  Jab3r.X1  \\\n",
      "4             0  ...           0          0           0          0         0   \n",
      "10            1  ...           0          0           0          0         0   \n",
      "13            0  ...           0          0           0          0         0   \n",
      "22            0  ...           0          0           0          0         0   \n",
      "27            0  ...           0          0           0          0         0   \n",
      "28            0  ...           0          0           0          0         0   \n",
      "33            0  ...           0          0           0          0         0   \n",
      "38            0  ...           0          0           0          0         0   \n",
      "44            0  ...           0          0           0          0         0   \n",
      "47            2  ...           0          0           0          0         0   \n",
      "\n",
      "    Kick3r.X1  upper3r.X1  takedown3r.X1  hammer3r.X1  Crossr.X2  \n",
      "4           0           0              0            0          0  \n",
      "10          0           0              0            0          0  \n",
      "13          0           0              0            0          0  \n",
      "22          0           0              0            0          0  \n",
      "27          0           0              0            0          0  \n",
      "28          0           0              0            0          0  \n",
      "33          0           0              0            0          0  \n",
      "38          0           0              0            0          0  \n",
      "44          0           0              0            0          0  \n",
      "47          0           0              0            0          0  \n",
      "\n",
      "[10 rows x 125 columns]\n"
     ]
    }
   ],
   "source": [
    "NunezTest = pd.concat([NunezHits,X_Nunez1], axis=1)\n",
    "\n",
    "predicted = NunezTest.iloc[:,0]\n",
    "actual = NunezTest.iloc[:,1]\n",
    "p = float(sum(predicted))\n",
    "a = float(sum(actual))\n",
    "\n",
    "print 'KNN Accuracy is the predicted, ',p,' divided by the actual, ',a,' hits: ', round((p/a),2)*100,'%\\n'\n",
    "\n",
    "print NunezTest"
   ]
  },
  {
   "cell_type": "code",
   "execution_count": 373,
   "metadata": {},
   "outputs": [],
   "source": [
    "NunezTest.to_csv('NunezTest_KNN_results_python.csv')"
   ]
  },
  {
   "cell_type": "code",
   "execution_count": 379,
   "metadata": {},
   "outputs": [
    {
     "name": "stdout",
     "output_type": "stream",
     "text": [
      "[[39  7  2]\n",
      " [ 0  1  0]\n",
      " [ 0  0  0]]\n",
      "Accuracy Nunez hits landed as predicted with Nunez training data (how well model predicts):  82.0 %.\n",
      "\n",
      "[[29  8  1]\n",
      " [10  0  1]\n",
      " [ 0  0  0]]\n",
      "Accuracy Mazvidal true hits landed as predicted with Nunez training data (how similar Nunez is to Mazvidal):  67.0 %.\n",
      "\n",
      "[[37 11]\n",
      " [ 1  0]]\n",
      "Accuracy Nunez predicted hits compared to Mazvidal predicted hits:  76.0 %.\n",
      "\n"
     ]
    }
   ],
   "source": [
    "from sklearn.metrics import confusion_matrix\n",
    "from sklearn.metrics import accuracy_score\n",
    "cm = confusion_matrix(y_pred,y_test)\n",
    "cm2 = confusion_matrix(y_pred2, y_test)\n",
    "cm3 = confusion_matrix(y_pred, y_pred2)\n",
    "print cm\n",
    "print 'Accuracy Nunez hits landed as predicted with Nunez training data (how well model predicts): ',round(accuracy_score(y_pred,y_test),2)*100,'%.\\n'\n",
    "print cm2\n",
    "print 'Accuracy Mazvidal true hits landed as predicted with Nunez training data (how similar Nunez is to Mazvidal): ',round(accuracy_score(y_pred2, y_test1),2)*100,'%.\\n'\n",
    "print cm3\n",
    "print 'Accuracy Nunez predicted hits compared to Mazvidal predicted hits: ', round(accuracy_score(y_pred, y_pred2),2)*100, '%.\\n'"
   ]
  },
  {
   "cell_type": "markdown",
   "metadata": {},
   "source": [
    "### Decision Trees\n"
   ]
  },
  {
   "cell_type": "code",
   "execution_count": 380,
   "metadata": {},
   "outputs": [],
   "source": [
    "import matplotlib.pyplot as plt\n",
    "import pandas as pd\n",
    "import numpy as np\n",
    "from sklearn.model_selection import train_test_split\n",
    "from sklearn import preprocessing, tree\n",
    "from sklearn.metrics import classification_report, confusion_matrix\n",
    "\n"
   ]
  },
  {
   "cell_type": "code",
   "execution_count": 393,
   "metadata": {},
   "outputs": [
    {
     "name": "stdout",
     "output_type": "stream",
     "text": [
      "Wall time: 0 ns\n",
      "Decision Tree Results Nunez's Testing Set\n",
      "Confusion Matrix: \n",
      "[[39  0  0]\n",
      " [ 7  1  0]\n",
      " [ 2  0  0]]\n",
      "\n",
      " Classifcation Report for Nunez's Testing Set\n",
      "              precision    recall  f1-score   support\n",
      "\n",
      "           0       0.81      1.00      0.90        39\n",
      "           1       1.00      0.12      0.22         8\n",
      "           2       0.00      0.00      0.00         2\n",
      "\n",
      "   micro avg       0.82      0.82      0.82        49\n",
      "   macro avg       0.60      0.38      0.37        49\n",
      "weighted avg       0.81      0.82      0.75        49\n",
      "\n"
     ]
    }
   ],
   "source": [
    "% time\n",
    "dtc = tree.DecisionTreeClassifier(criterion='entropy', max_depth=2)#gets worse with more trees\n",
    "dtc.fit(X_train_std, y_train)#Nunez training set\n",
    "predicted = dtc.predict(X_test_std)#Nunez testing set\n",
    "\n",
    "print \"Decision Tree Results Nunez's Testing Set\\nConfusion Matrix: \"\n",
    "print confusion_matrix(y_test,predicted)\n",
    "print \"\\n Classifcation Report for Nunez's Testing Set\"\n",
    "print classification_report(y_test,predicted)"
   ]
  },
  {
   "cell_type": "code",
   "execution_count": 394,
   "metadata": {},
   "outputs": [
    {
     "name": "stdout",
     "output_type": "stream",
     "text": [
      "Wall time: 0 ns\n",
      "Decision Tree Results Nunez true results with predictions using Mazvidal's Testing Set\n",
      "Confusion Matrix: \n",
      "[[39  0  0]\n",
      " [ 8  0  0]\n",
      " [ 2  0  0]]\n",
      "\n",
      " Classifcation Report for Mazvidal's Testing Set\n",
      "              precision    recall  f1-score   support\n",
      "\n",
      "           0       0.80      1.00      0.89        39\n",
      "           1       0.00      0.00      0.00         8\n",
      "           2       0.00      0.00      0.00         2\n",
      "\n",
      "   micro avg       0.80      0.80      0.80        49\n",
      "   macro avg       0.27      0.33      0.30        49\n",
      "weighted avg       0.63      0.80      0.71        49\n",
      "\n"
     ]
    }
   ],
   "source": [
    "% time\n",
    "dtc = tree.DecisionTreeClassifier(criterion='entropy', max_depth=3)\n",
    "dtc.fit(X_train_std, y_train)#Nunez training set\n",
    "predicted = dtc.predict(X_test_scaled)#Mazvidal testing set\n",
    "\n",
    "print \"Decision Tree Results Nunez true results with predictions using Mazvidal's Testing Set\\nConfusion Matrix: \"\n",
    "print confusion_matrix(y_test,predicted)\n",
    "print \"\\n Classifcation Report for Mazvidal's Testing Set\"\n",
    "print classification_report(y_test,predicted)"
   ]
  },
  {
   "cell_type": "code",
   "execution_count": 396,
   "metadata": {},
   "outputs": [
    {
     "name": "stdout",
     "output_type": "stream",
     "text": [
      "Wall time: 0 ns\n",
      "Decision Tree Results Nunez's Testing Set to train on Mazvidal's Testing Set\n",
      "Confusion Matrix: \n",
      "[[17 22  0]\n",
      " [ 5  3  0]\n",
      " [ 1  1  0]]\n",
      "\n",
      " Classifcation Report for Nunez's Testing Set to train Mazvidal's Testing Set\n",
      "              precision    recall  f1-score   support\n",
      "\n",
      "           0       0.74      0.44      0.55        39\n",
      "           1       0.12      0.38      0.18         8\n",
      "           2       0.00      0.00      0.00         2\n",
      "\n",
      "   micro avg       0.41      0.41      0.41        49\n",
      "   macro avg       0.28      0.27      0.24        49\n",
      "weighted avg       0.61      0.41      0.47        49\n",
      "\n"
     ]
    }
   ],
   "source": [
    "% time\n",
    "dtc = tree.DecisionTreeClassifier(criterion='entropy', max_depth=3)\n",
    "dtc.fit(X_test_std, y_test)#Nunez testing set as the decision tree classifier training model\n",
    "predicted = dtc.predict(X_test_scaled) #Mazvidal testing set\n",
    "\n",
    "print \"Decision Tree Results Nunez's Testing Set to train on Mazvidal's Testing Set\\nConfusion Matrix: \"\n",
    "print confusion_matrix(y_test,predicted)\n",
    "print \"\\n Classifcation Report for Nunez's Testing Set to train Mazvidal's Testing Set\"\n",
    "print classification_report(y_test,predicted)"
   ]
  },
  {
   "cell_type": "markdown",
   "metadata": {},
   "source": [
    "### Decision Tree Regression - Testing Nunez Model on Nunez testing set"
   ]
  },
  {
   "cell_type": "code",
   "execution_count": 397,
   "metadata": {},
   "outputs": [],
   "source": [
    "#Week 7 ipynb\n",
    "\n",
    "%matplotlib inline\n",
    "import pandas as pd \n",
    "import numpy as np\n",
    "import matplotlib.pyplot as plt\n",
    "from sklearn import preprocessing\n",
    "from sklearn.model_selection import train_test_split\n",
    "\n"
   ]
  },
  {
   "cell_type": "code",
   "execution_count": 398,
   "metadata": {},
   "outputs": [],
   "source": [
    "import random #keep the same results when running the code, as results vary with each run of code\n",
    "random.seed(100)"
   ]
  },
  {
   "cell_type": "code",
   "execution_count": 400,
   "metadata": {},
   "outputs": [
    {
     "name": "stdout",
     "output_type": "stream",
     "text": [
      "Wall time: 0 ns\n",
      "Wall time: 0 ns\n"
     ]
    }
   ],
   "source": [
    "# Fit regression model\n",
    "% time\n",
    "regr_1 = tree.DecisionTreeRegressor(max_depth=2)\n",
    "regr_2 = tree.DecisionTreeRegressor(max_depth=5)\n",
    "regr_3 = tree.DecisionTreeRegressor(max_depth=10)\n",
    "regr_1.fit(X_train_std, y_train)\n",
    "regr_2.fit(X_train_std, y_train)\n",
    "regr_3.fit(X_train_std, y_train)\n",
    "#regr_1.fit(X_train, y_train)\n",
    "#regr_2.fit(X_train, y_train)\n",
    "#regr_3.fit(X_train, y_train)\n",
    "\n",
    "# Predict\n",
    "#X_test = np.arange(0.0, 300, 0.1)[:, np.newaxis]\n",
    "y_1 = regr_1.predict(X_test_std)\n",
    "y_2 = regr_2.predict(X_test_std)\n",
    "y_3 = regr_3.predict(X_test_std)\n",
    "#y_1 = regr_1.predict(X_test)\n",
    "#y_2 = regr_2.predict(X_test)\n",
    "#y_3 = regr_3.predict(X_test)\n",
    "% time"
   ]
  },
  {
   "cell_type": "code",
   "execution_count": 401,
   "metadata": {},
   "outputs": [],
   "source": [
    "import matplotlib.pyplot as plt\n",
    "import pandas as pd\n",
    "import numpy as np\n",
    "from sklearn.model_selection import train_test_split\n",
    "from sklearn import preprocessing, tree\n",
    "from sklearn.metrics import classification_report, confusion_matrix\n",
    "\n"
   ]
  },
  {
   "cell_type": "code",
   "execution_count": 402,
   "metadata": {},
   "outputs": [
    {
     "name": "stdout",
     "output_type": "stream",
     "text": [
      "Decision Tree Regression Prediction with Max Depth=2\n",
      "[0. 0. 0. 0. 0. 0. 0. 0. 0. 0. 0. 1. 0. 1. 0. 0. 0. 0. 0. 0. 1. 0. 1. 0.\n",
      " 0. 0. 0. 0. 0. 1. 0. 0. 0. 0. 0. 0. 0. 0. 0. 0. 0. 0. 0. 0. 0. 0. 0. 1.\n",
      " 0.]\n",
      "\n",
      "Actual Testing Subset Categorical Values:\n",
      "[0 0 0 0 1 0 0 0 0 0 1 0 0 1 0 0 0 0 0 0 0 0 1 0 0 0 0 1 1 0 0 0 0 2 0 0 0\n",
      " 0 2 0 0 0 0 0 1 0 0 1 0]\n",
      "\n",
      "Decision Tree Results Max Depth=2\n",
      "Confusion Matrix: \n",
      "[[36  3  0]\n",
      " [ 5  3  0]\n",
      " [ 2  0  0]]\n",
      "\n",
      " Classifcation Report\n",
      "              precision    recall  f1-score   support\n",
      "\n",
      "           0       0.84      0.92      0.88        39\n",
      "           1       0.50      0.38      0.43         8\n",
      "           2       0.00      0.00      0.00         2\n",
      "\n",
      "   micro avg       0.80      0.80      0.80        49\n",
      "   macro avg       0.45      0.43      0.44        49\n",
      "weighted avg       0.75      0.80      0.77        49\n",
      "\n",
      "The number of testing samples:\n",
      "49\n",
      "The number of correct predictions:\n",
      "39\n",
      "[ True  True  True  True False  True  True  True  True  True False False\n",
      "  True  True  True  True  True  True  True  True False  True  True  True\n",
      "  True  True  True False False False  True  True  True False  True  True\n",
      "  True  True False  True  True  True  True  True False  True  True  True\n",
      "  True]\n",
      "\n",
      "Accuracy of Decision Tree with Max Depth=2\n",
      "0.8 %\n"
     ]
    }
   ],
   "source": [
    "print \"Decision Tree Regression Prediction with Max Depth=2\" \n",
    "print y_1.round()\n",
    "print \"\\nActual Testing Subset Categorical Values:\"\n",
    "print y_test\n",
    "\n",
    "print \"\\nDecision Tree Results Max Depth=2\\nConfusion Matrix: \"\n",
    "print confusion_matrix(y_test,y_1.round())\n",
    "print \"\\n Classifcation Report\"\n",
    "print classification_report(y_test,y_1.round())\n",
    "\n",
    "a=sum(y_1.round()==y_test)\n",
    "b= len(y_test)\n",
    "print 'The number of testing samples:'\n",
    "print b\n",
    "print 'The number of correct predictions:'\n",
    "print a\n",
    "\n",
    "print y_1.round() == y_test\n",
    "print \"\\nAccuracy of Decision Tree with Max Depth=2\"\n",
    "print round(float(a)/float(b),2),\"%\"\n"
   ]
  },
  {
   "cell_type": "code",
   "execution_count": 403,
   "metadata": {},
   "outputs": [
    {
     "name": "stdout",
     "output_type": "stream",
     "text": [
      "Decision Tree Regression Prediction with Max Depth=5\n",
      "[0. 0. 0. 0. 0. 0. 0. 0. 0. 0. 0. 2. 0. 0. 0. 1. 0. 0. 0. 0. 0. 0. 1. 0.\n",
      " 0. 0. 0. 0. 0. 0. 0. 0. 0. 0. 0. 0. 0. 0. 0. 0. 0. 0. 0. 0. 0. 0. 0. 2.\n",
      " 0.]\n",
      "\n",
      "Actual Testing Subset Categorical Values:\n",
      "[0 0 0 0 1 0 0 0 0 0 1 0 0 1 0 0 0 0 0 0 0 0 1 0 0 0 0 1 1 0 0 0 0 2 0 0 0\n",
      " 0 2 0 0 0 0 0 1 0 0 1 0]\n",
      "\n",
      "Decision Tree Results\n",
      "Confusion Matrix: \n",
      "[[37  1  1]\n",
      " [ 6  1  1]\n",
      " [ 2  0  0]]\n",
      "\n",
      " Classifcation Report\n",
      "              precision    recall  f1-score   support\n",
      "\n",
      "           0       0.82      0.95      0.88        39\n",
      "           1       0.50      0.12      0.20         8\n",
      "           2       0.00      0.00      0.00         2\n",
      "\n",
      "   micro avg       0.78      0.78      0.78        49\n",
      "   macro avg       0.44      0.36      0.36        49\n",
      "weighted avg       0.74      0.78      0.73        49\n",
      "\n"
     ]
    }
   ],
   "source": [
    "print \"Decision Tree Regression Prediction with Max Depth=5\" \n",
    "print y_2.round()\n",
    "print \"\\nActual Testing Subset Categorical Values:\"\n",
    "print y_test\n",
    "\n",
    "print \"\\nDecision Tree Results\\nConfusion Matrix: \"\n",
    "print confusion_matrix(y_test,y_2.round())\n",
    "print \"\\n Classifcation Report\"\n",
    "print classification_report(y_test,y_2.round())"
   ]
  },
  {
   "cell_type": "code",
   "execution_count": 404,
   "metadata": {},
   "outputs": [
    {
     "name": "stdout",
     "output_type": "stream",
     "text": [
      "The number of testing samples:\n",
      "49\n",
      "The number of correct predictions:\n",
      "38\n",
      "[ True  True  True  True False  True  True  True  True  True False False\n",
      "  True False  True False  True  True  True  True  True  True  True  True\n",
      "  True  True  True False False  True  True  True  True False  True  True\n",
      "  True  True False  True  True  True  True  True False  True  True False\n",
      "  True]\n",
      "\n",
      "Accuracy of Decision Tree with Max Depth=5\n",
      "0.78 %\n"
     ]
    }
   ],
   "source": [
    "a=sum(y_2.round()==y_test)\n",
    "b= len(y_test)\n",
    "print 'The number of testing samples:'\n",
    "print b\n",
    "print 'The number of correct predictions:'\n",
    "print a\n",
    "\n",
    "print y_2.round() == y_test\n",
    "print \"\\nAccuracy of Decision Tree with Max Depth=5\"\n",
    "print round(float(a)/float(b),2),\"%\""
   ]
  },
  {
   "cell_type": "code",
   "execution_count": 406,
   "metadata": {},
   "outputs": [
    {
     "name": "stdout",
     "output_type": "stream",
     "text": [
      "Decision Tree Regression Prediction with Max Depth=10\n",
      "[0. 0. 1. 0. 0. 0. 1. 0. 0. 0. 0. 2. 0. 1. 0. 1. 0. 0. 0. 0. 0. 0. 1. 0.\n",
      " 0. 0. 0. 0. 0. 1. 0. 0. 0. 0. 0. 1. 0. 0. 0. 0. 0. 1. 0. 0. 0. 0. 0. 2.\n",
      " 0.]\n",
      "\n",
      "Actual Testing Subset Categorical Values:\n",
      "[0 0 0 0 1 0 0 0 0 0 1 0 0 1 0 0 0 0 0 0 0 0 1 0 0 0 0 1 1 0 0 0 0 2 0 0 0\n",
      " 0 2 0 0 0 0 0 1 0 0 1 0]\n",
      "\n",
      "Decision Tree Results\n",
      "Confusion Matrix: \n",
      "[[32  6  1]\n",
      " [ 5  2  1]\n",
      " [ 2  0  0]]\n",
      "\n",
      " Classifcation Report\n",
      "              precision    recall  f1-score   support\n",
      "\n",
      "           0       0.82      0.82      0.82        39\n",
      "           1       0.25      0.25      0.25         8\n",
      "           2       0.00      0.00      0.00         2\n",
      "\n",
      "   micro avg       0.69      0.69      0.69        49\n",
      "   macro avg       0.36      0.36      0.36        49\n",
      "weighted avg       0.69      0.69      0.69        49\n",
      "\n",
      "The number of testing samples:\n",
      "49\n",
      "The number of correct predictions:\n",
      "34\n",
      "[ True  True False  True False  True False  True  True  True False False\n",
      "  True  True  True False  True  True  True  True  True  True  True  True\n",
      "  True  True  True False False False  True  True  True False  True False\n",
      "  True  True False  True  True False  True  True False  True  True False\n",
      "  True]\n",
      "\n",
      "Accuracy of Decision Tree with Max Depth=10\n",
      "0.69 %\n"
     ]
    }
   ],
   "source": [
    "print \"Decision Tree Regression Prediction with Max Depth=10\" \n",
    "print y_3.round()\n",
    "print \"\\nActual Testing Subset Categorical Values:\"\n",
    "print y_test\n",
    "\n",
    "print \"\\nDecision Tree Results\\nConfusion Matrix: \"\n",
    "print confusion_matrix(y_test,y_3.round())\n",
    "print \"\\n Classifcation Report\"\n",
    "print classification_report(y_test,y_3.round())\n",
    "\n",
    "a=sum(y_3.round()==y_test)\n",
    "b= len(y_test)\n",
    "print 'The number of testing samples:'\n",
    "print b\n",
    "print 'The number of correct predictions:'\n",
    "print a\n",
    "\n",
    "print y_3.round() == y_test\n",
    "print \"\\nAccuracy of Decision Tree with Max Depth=10\"\n",
    "print round(float(a)/float(b),2),\"%\""
   ]
  },
  {
   "cell_type": "markdown",
   "metadata": {},
   "source": [
    "## Decision Tree Regression: Testing Nunez model on Mazvidal testing set"
   ]
  },
  {
   "cell_type": "code",
   "execution_count": 409,
   "metadata": {},
   "outputs": [],
   "source": [
    "%matplotlib inline\n",
    "import pandas as pd \n",
    "import numpy as np\n",
    "import matplotlib.pyplot as plt\n",
    "from sklearn import preprocessing, tree\n",
    "from sklearn.model_selection import train_test_split\n",
    "from sklearn.metrics import classification_report, confusion_matrix\n",
    "\n",
    "import random #keep the same results when running the code, as results vary with each run of code\n",
    "random.seed(100)"
   ]
  },
  {
   "cell_type": "code",
   "execution_count": 410,
   "metadata": {},
   "outputs": [
    {
     "name": "stdout",
     "output_type": "stream",
     "text": [
      "Wall time: 0 ns\n",
      "Wall time: 0 ns\n"
     ]
    }
   ],
   "source": [
    "# Fit regression model\n",
    "% time\n",
    "regr_1 = tree.DecisionTreeRegressor(max_depth=2)\n",
    "regr_2 = tree.DecisionTreeRegressor(max_depth=5)\n",
    "regr_3 = tree.DecisionTreeRegressor(max_depth=10)\n",
    "regr_1.fit(X_train_std, y_train)\n",
    "regr_2.fit(X_train_std, y_train)\n",
    "regr_3.fit(X_train_std, y_train)\n",
    "\n",
    "# Predict\n",
    "\n",
    "y_1 = regr_1.predict(X_test_scaled)\n",
    "y_2 = regr_2.predict(X_test_scaled)\n",
    "y_3 = regr_3.predict(X_test_scaled)\n",
    "\n",
    "% time"
   ]
  },
  {
   "cell_type": "code",
   "execution_count": 411,
   "metadata": {},
   "outputs": [
    {
     "name": "stdout",
     "output_type": "stream",
     "text": [
      "Decision Tree Regression Prediction with Max Depth=2\n",
      "[0. 0. 0. 0. 0. 0. 0. 0. 0. 1. 1. 0. 0. 0. 0. 0. 0. 0. 0. 0. 0. 0. 0. 1.\n",
      " 0. 1. 1. 0. 1. 0. 0. 0. 0. 0. 0. 0. 1. 0. 0. 0. 0. 0. 0. 0. 1. 0. 0. 0.\n",
      " 0.]\n",
      "\n",
      "Actual Testing Subset Categorical Values:\n",
      "[0 0 0 0 1 0 0 0 0 0 1 0 0 1 0 0 0 0 0 0 0 0 1 0 0 0 0 1 1 0 0 0 0 2 0 0 0\n",
      " 0 2 0 0 0 0 0 1 0 0 1 0]\n",
      "\n",
      "Decision Tree Results Max Depth=2\n",
      "Confusion Matrix: \n",
      "[[34  5  0]\n",
      " [ 5  3  0]\n",
      " [ 2  0  0]]\n",
      "\n",
      " Classifcation Report\n",
      "              precision    recall  f1-score   support\n",
      "\n",
      "           0       0.83      0.87      0.85        39\n",
      "           1       0.38      0.38      0.38         8\n",
      "           2       0.00      0.00      0.00         2\n",
      "\n",
      "   micro avg       0.76      0.76      0.76        49\n",
      "   macro avg       0.40      0.42      0.41        49\n",
      "weighted avg       0.72      0.76      0.74        49\n",
      "\n",
      "The number of testing samples:\n",
      "49\n",
      "The number of correct predictions:\n",
      "37\n",
      "[ True  True  True  True False  True  True  True  True False  True  True\n",
      "  True False  True  True  True  True  True  True  True  True False False\n",
      "  True False False False  True  True  True  True  True False  True  True\n",
      " False  True False  True  True  True  True  True  True  True  True False\n",
      "  True]\n",
      "\n",
      "Accuracy of Decision Tree with Max Depth=2\n",
      "0.76 %\n"
     ]
    }
   ],
   "source": [
    "print \"Decision Tree Regression Prediction with Max Depth=2\" \n",
    "print y_1.round()\n",
    "print \"\\nActual Testing Subset Categorical Values:\"\n",
    "print y_test\n",
    "\n",
    "print \"\\nDecision Tree Results Max Depth=2\\nConfusion Matrix: \"\n",
    "print confusion_matrix(y_test,y_1.round())\n",
    "print \"\\n Classifcation Report\"\n",
    "print classification_report(y_test,y_1.round())\n",
    "\n",
    "a=sum(y_1.round()==y_test)\n",
    "b= len(y_test)\n",
    "print 'The number of testing samples:'\n",
    "print b\n",
    "print 'The number of correct predictions:'\n",
    "print a\n",
    "\n",
    "print y_1.round() == y_test\n",
    "print \"\\nAccuracy of Decision Tree with Max Depth=2\"\n",
    "print round(float(a)/float(b),2),\"%\"\n"
   ]
  },
  {
   "cell_type": "code",
   "execution_count": 412,
   "metadata": {},
   "outputs": [
    {
     "name": "stdout",
     "output_type": "stream",
     "text": [
      "Decision Tree Regression Prediction with Max Depth=5\n",
      "[0. 0. 0. 0. 0. 0. 0. 0. 0. 0. 0. 0. 1. 0. 0. 0. 0. 0. 0. 0. 0. 0. 0. 0.\n",
      " 0. 0. 0. 0. 0. 0. 0. 0. 0. 0. 0. 0. 0. 0. 0. 0. 0. 0. 0. 0. 0. 0. 0. 0.\n",
      " 1.]\n",
      "\n",
      "Actual Testing Subset Categorical Values:\n",
      "[0 0 0 0 1 0 0 0 0 0 1 0 0 1 0 0 0 0 0 0 0 0 1 0 0 0 0 1 1 0 0 0 0 2 0 0 0\n",
      " 0 2 0 0 0 0 0 1 0 0 1 0]\n",
      "\n",
      "Decision Tree Results\n",
      "Confusion Matrix: \n",
      "[[37  2  0]\n",
      " [ 8  0  0]\n",
      " [ 2  0  0]]\n",
      "\n",
      " Classifcation Report\n",
      "              precision    recall  f1-score   support\n",
      "\n",
      "           0       0.79      0.95      0.86        39\n",
      "           1       0.00      0.00      0.00         8\n",
      "           2       0.00      0.00      0.00         2\n",
      "\n",
      "   micro avg       0.76      0.76      0.76        49\n",
      "   macro avg       0.26      0.32      0.29        49\n",
      "weighted avg       0.63      0.76      0.68        49\n",
      "\n"
     ]
    }
   ],
   "source": [
    "print \"Decision Tree Regression Prediction with Max Depth=5\" \n",
    "print y_2.round()\n",
    "print \"\\nActual Testing Subset Categorical Values:\"\n",
    "print y_test\n",
    "\n",
    "print \"\\nDecision Tree Results\\nConfusion Matrix: \"\n",
    "print confusion_matrix(y_test,y_2.round())\n",
    "print \"\\n Classifcation Report\"\n",
    "print classification_report(y_test,y_2.round())"
   ]
  },
  {
   "cell_type": "code",
   "execution_count": 413,
   "metadata": {},
   "outputs": [
    {
     "name": "stdout",
     "output_type": "stream",
     "text": [
      "The number of testing samples:\n",
      "49\n",
      "The number of correct predictions:\n",
      "37\n",
      "[ True  True  True  True False  True  True  True  True  True False  True\n",
      " False False  True  True  True  True  True  True  True  True False  True\n",
      "  True  True  True False False  True  True  True  True False  True  True\n",
      "  True  True False  True  True  True  True  True False  True  True False\n",
      " False]\n",
      "\n",
      "Accuracy of Decision Tree with Max Depth=5\n",
      "0.76 %\n"
     ]
    }
   ],
   "source": [
    "a=sum(y_2.round()==y_test)\n",
    "b= len(y_test)\n",
    "print 'The number of testing samples:'\n",
    "print b\n",
    "print 'The number of correct predictions:'\n",
    "print a\n",
    "\n",
    "print y_2.round() == y_test\n",
    "print \"\\nAccuracy of Decision Tree with Max Depth=5\"\n",
    "print round(float(a)/float(b),2),\"%\""
   ]
  },
  {
   "cell_type": "code",
   "execution_count": 414,
   "metadata": {},
   "outputs": [
    {
     "name": "stdout",
     "output_type": "stream",
     "text": [
      "Decision Tree Regression Prediction with Max Depth=10\n",
      "[1. 0. 0. 0. 0. 1. 0. 1. 1. 0. 0. 0. 0. 0. 1. 1. 1. 0. 1. 0. 0. 1. 0. 0.\n",
      " 0. 0. 0. 0. 0. 1. 0. 0. 1. 0. 0. 0. 0. 0. 1. 0. 0. 1. 0. 0. 0. 0. 0. 0.\n",
      " 0.]\n",
      "\n",
      "Actual Testing Subset Categorical Values:\n",
      "[0 0 0 0 1 0 0 0 0 0 1 0 0 1 0 0 0 0 0 0 0 0 1 0 0 0 0 1 1 0 0 0 0 2 0 0 0\n",
      " 0 2 0 0 0 0 0 1 0 0 1 0]\n",
      "\n",
      "Decision Tree Results\n",
      "Confusion Matrix: \n",
      "[[27 12  0]\n",
      " [ 8  0  0]\n",
      " [ 1  1  0]]\n",
      "\n",
      " Classifcation Report\n",
      "              precision    recall  f1-score   support\n",
      "\n",
      "           0       0.75      0.69      0.72        39\n",
      "           1       0.00      0.00      0.00         8\n",
      "           2       0.00      0.00      0.00         2\n",
      "\n",
      "   micro avg       0.55      0.55      0.55        49\n",
      "   macro avg       0.25      0.23      0.24        49\n",
      "weighted avg       0.60      0.55      0.57        49\n",
      "\n",
      "The number of testing samples:\n",
      "49\n",
      "The number of correct predictions:\n",
      "27\n",
      "[False  True  True  True False False  True False False  True False  True\n",
      "  True False False False False  True False  True  True False False  True\n",
      "  True  True  True False False False  True  True False False  True  True\n",
      "  True  True False  True  True False  True  True False  True  True False\n",
      "  True]\n",
      "\n",
      "Accuracy of Decision Tree with Max Depth=10\n",
      "0.55 %\n"
     ]
    }
   ],
   "source": [
    "print \"Decision Tree Regression Prediction with Max Depth=10\" \n",
    "print y_3.round()\n",
    "print \"\\nActual Testing Subset Categorical Values:\"\n",
    "print y_test\n",
    "\n",
    "print \"\\nDecision Tree Results\\nConfusion Matrix: \"\n",
    "print confusion_matrix(y_test,y_3.round())\n",
    "print \"\\n Classifcation Report\"\n",
    "print classification_report(y_test,y_3.round())\n",
    "\n",
    "a=sum(y_3.round()==y_test)\n",
    "b= len(y_test)\n",
    "print 'The number of testing samples:'\n",
    "print b\n",
    "print 'The number of correct predictions:'\n",
    "print a\n",
    "\n",
    "print y_3.round() == y_test\n",
    "print \"\\nAccuracy of Decision Tree with Max Depth=10\"\n",
    "print round(float(a)/float(b),2),\"%\""
   ]
  },
  {
   "cell_type": "markdown",
   "metadata": {},
   "source": [
    "### Ensemble Trees, Voting Classifier\n",
    "logistic, random forest, and gaussian naive bayes used"
   ]
  },
  {
   "cell_type": "code",
   "execution_count": 421,
   "metadata": {},
   "outputs": [
    {
     "name": "stdout",
     "output_type": "stream",
     "text": [
      "The Ensemble methods of hard voting using the Nunez training and testing sets:\n",
      "Accuracy: 0.81 (+/- 0.03) [Logistic Regression]\n",
      "Accuracy: 0.81 (+/- 0.03) [Random Forest]\n",
      "Accuracy: 0.47 (+/- 0.07) [naive Bayes]\n",
      "Accuracy: 0.86 (+/- 0.04) [Ensemble]\n",
      "The Ensemble method using the Nunez testing set to train the model and test on the Nunez Testing set\n",
      "Accuracy: 0.77 (+/- 0.09) [Logistic Regression]\n",
      "Accuracy: 0.75 (+/- 0.12) [Random Forest]\n",
      "Accuracy: 0.82 (+/- 0.06) [naive Bayes]\n",
      "Accuracy: 0.82 (+/- 0.10) [Ensemble]\n",
      "The Ensemble methods of hard voting using the Nunez testing set to train a model and Mazvidal testing set to test it:\n",
      "Accuracy: 0.80 (+/- 0.05) [Logistic Regression]\n",
      "Accuracy: 0.74 (+/- 0.12) [Random Forest]\n",
      "Accuracy: 0.22 (+/- 0.08) [naive Bayes]\n",
      "Accuracy: 0.74 (+/- 0.07) [Ensemble]\n"
     ]
    }
   ],
   "source": [
    "from sklearn import datasets\n",
    "from sklearn.model_selection import cross_val_score\n",
    "from sklearn.linear_model import LogisticRegression\n",
    "from sklearn.naive_bayes import GaussianNB\n",
    "from sklearn.ensemble import RandomForestClassifier\n",
    "from sklearn.ensemble import VotingClassifier\n",
    "\n",
    "clf1 = LogisticRegression(random_state=1)\n",
    "clf2 = RandomForestClassifier(random_state=1)\n",
    "clf3 = GaussianNB()\n",
    "\n",
    "eclf = VotingClassifier(estimators=[('lr', clf1), ('rf', clf2), ('gnb', clf3)], voting='hard')\n",
    "\n",
    "print \"The Ensemble methods of hard voting using the Nunez training and testing sets:\"\n",
    "for clf, label in zip([clf1, clf2, clf3, eclf], ['Logistic Regression', 'Random Forest', 'naive Bayes', 'Ensemble']):\n",
    "    scores = cross_val_score(clf, X_train_std, y_train, cv=5, scoring='accuracy')\n",
    "    print(\"Accuracy: %0.2f (+/- %0.2f) [%s]\" % (scores.mean(), scores.std(), label))\n",
    "\n",
    "print 'The Ensemble method using the Nunez testing set to train the model and test on the Nunez Testing set'\n",
    "for clf, label in zip([clf1, clf2, clf3, eclf], ['Logistic Regression', 'Random Forest', 'naive Bayes', 'Ensemble']):\n",
    "    scores = cross_val_score(clf, X_test_std, y_test, cv=5, scoring='accuracy')\n",
    "    print(\"Accuracy: %0.2f (+/- %0.2f) [%s]\" % (scores.mean(), scores.std(), label))\n",
    "    \n",
    "print \"The Ensemble methods of hard voting using the Nunez testing set to train a model and Mazvidal testing set to test it:\"\n",
    "for clf, label in zip([clf1, clf2, clf3, eclf], ['Logistic Regression', 'Random Forest', 'naive Bayes', 'Ensemble']):\n",
    "    scores = cross_val_score(clf, X_test_std, y_test1, cv=5, scoring='accuracy')\n",
    "    print(\"Accuracy: %0.2f (+/- %0.2f) [%s]\" % (scores.mean(), scores.std(), label))\n",
    "    "
   ]
  },
  {
   "cell_type": "code",
   "execution_count": 429,
   "metadata": {},
   "outputs": [
    {
     "name": "stdout",
     "output_type": "stream",
     "text": [
      "Ensemble Nunez training and testing predicted results: \n",
      "[1 0 1 1 0 0 0 0 0 0 0 0 0 0 0 0 0 0 0 1 0 0 0 0 0 0 1 0 0 0 1 1 1 0 1 0 0\n",
      " 0 1 0 0 1 1 0 0 0 0 0 0] \n",
      "\n",
      "Actual testing set values: \n",
      "[0 0 0 0 1 0 0 0 0 0 1 0 0 1 0 0 0 0 0 0 0 0 1 0 0 0 0 1 1 0 0 0 0 2 0 0 0\n",
      " 0 2 0 0 0 0 0 1 0 0 1 0] \n",
      "\n"
     ]
    }
   ],
   "source": [
    "#results from ensemble method \n",
    "eclf.fit(X_train_scaled, y_train)\n",
    "predicted_ens = eclf.predict(X_test_scaled)\n",
    "print 'Ensemble Nunez training and testing predicted results: \\n', predicted_ens, '\\n'\n",
    "print 'Actual testing set values: \\n', y_test, '\\n'"
   ]
  },
  {
   "cell_type": "code",
   "execution_count": 430,
   "metadata": {},
   "outputs": [
    {
     "data": {
      "text/plain": [
       "array([0, 0, 0, 0, 0, 0, 0, 0, 0, 0, 0, 0, 0, 0, 0, 0, 0, 0, 0, 0, 0, 0,\n",
       "       0, 0, 0, 0, 1, 0, 1, 0, 1, 1, 1, 0, 0, 0, 0, 0, 1, 0, 0, 0, 0, 0,\n",
       "       0, 0, 0, 0, 0], dtype=int64)"
      ]
     },
     "execution_count": 430,
     "metadata": {},
     "output_type": "execute_result"
    }
   ],
   "source": [
    "rff = RandomForestClassifier(random_state=1)\n",
    "rff.fit(X_train_scaled, y_train)\n",
    "predicted_rf = rff.predict(X_test_scaled)\n",
    "predicted_rf"
   ]
  },
  {
   "cell_type": "code",
   "execution_count": 431,
   "metadata": {},
   "outputs": [
    {
     "data": {
      "text/plain": [
       "array([1, 0, 1, 1, 0, 0, 1, 0, 0, 0, 0, 0, 0, 0, 0, 0, 0, 0, 0, 1, 1, 0,\n",
       "       0, 0, 0, 0, 1, 0, 0, 0, 1, 1, 1, 0, 1, 0, 1, 1, 1, 0, 1, 1, 1, 0,\n",
       "       0, 0, 1, 0, 0], dtype=int64)"
      ]
     },
     "execution_count": 431,
     "metadata": {},
     "output_type": "execute_result"
    }
   ],
   "source": [
    "logg = LogisticRegression(random_state=1)\n",
    "logg.fit(X_train_scaled, y_train)\n",
    "predicted_lg = logg.predict(X_test_scaled)\n",
    "predicted_lg"
   ]
  },
  {
   "cell_type": "code",
   "execution_count": 432,
   "metadata": {},
   "outputs": [
    {
     "data": {
      "text/plain": [
       "array([1, 0, 1, 1, 1, 0, 2, 1, 0, 1, 0, 0, 1, 0, 0, 0, 1, 0, 0, 1, 2, 1,\n",
       "       1, 1, 1, 2, 1, 0, 0, 0, 2, 2, 2, 0, 1, 0, 2, 2, 1, 1, 2, 1, 1, 0,\n",
       "       0, 0, 2, 0, 0], dtype=int64)"
      ]
     },
     "execution_count": 432,
     "metadata": {},
     "output_type": "execute_result"
    }
   ],
   "source": [
    "#use naive bayes, see exact predictions\n",
    "from sklearn.naive_bayes import GaussianNB\n",
    "gnb = GaussianNB()\n",
    "gnb.fit(X_train_scaled, y_train)\n",
    "predicted_nb = gnb.predict(X_test_scaled)\n",
    "predicted_nb"
   ]
  },
  {
   "cell_type": "code",
   "execution_count": 434,
   "metadata": {},
   "outputs": [],
   "source": [
    "from pandas import Series, DataFrame\n",
    "d = pd.Series(predicted_ens)\n",
    "m = pd.Series(predicted_rf)\n",
    "t = pd.Series(predicted_lg)\n",
    "z = pd.Series(predicted_nb)\n",
    "a = pd.Series(y_test)\n",
    "\n",
    "df_ens = pd.concat([d,m,t,z,a], axis=1)\n",
    "df_ens.columns = ['NunezEnsemblePredicted', 'NunezRandomForestPredicted', 'NunezLogisticPredicted','NunezNaiveBayesPredicted', 'NunezTrueHitsLanded']\n",
    "\n",
    "ad = pd.Series(round(accuracy_score(predicted_ens, y_test),2))\n",
    "am = pd.Series(round(accuracy_score(predicted_rf, y_test),2))\n",
    "at = pd.Series(round(accuracy_score(predicted_lg, y_test),2))\n",
    "az = pd.Series(round(accuracy_score(predicted_nb,y_test),2))\n",
    "aa = pd.Series(round(accuracy_score(y_test,y_test),2))\n",
    "\n",
    "dfr = pd.concat([ad,am,at,az,aa],axis=1)#creates a vector of 1X5 for KNN results concatenating along columns\n",
    "dfr.columns = ['NunezEnsemblePredicted', 'NunezRandomForestPredicted', 'NunezLogisticPredicted','NunezNaiveBayesPredicted', 'NunezTrueHitsLanded']\n",
    "dfr.index = ['Ensemble results%']#gives the row name of this 1X5 data frame\n",
    "\n",
    "dfE = pd.concat([df_ens,dfr], axis=0)#concatenates along the rows for the results and scores\n",
    "\n"
   ]
  },
  {
   "cell_type": "code",
   "execution_count": 435,
   "metadata": {},
   "outputs": [
    {
     "name": "stdout",
     "output_type": "stream",
     "text": [
      "                   NunezEnsemblePredicted  NunezRandomForestPredicted  \\\n",
      "0                                    1.00                        0.00   \n",
      "1                                    0.00                        0.00   \n",
      "2                                    1.00                        0.00   \n",
      "3                                    1.00                        0.00   \n",
      "4                                    0.00                        0.00   \n",
      "5                                    0.00                        0.00   \n",
      "6                                    0.00                        0.00   \n",
      "7                                    0.00                        0.00   \n",
      "8                                    0.00                        0.00   \n",
      "9                                    0.00                        0.00   \n",
      "10                                   0.00                        0.00   \n",
      "11                                   0.00                        0.00   \n",
      "12                                   0.00                        0.00   \n",
      "13                                   0.00                        0.00   \n",
      "14                                   0.00                        0.00   \n",
      "15                                   0.00                        0.00   \n",
      "16                                   0.00                        0.00   \n",
      "17                                   0.00                        0.00   \n",
      "18                                   0.00                        0.00   \n",
      "19                                   1.00                        0.00   \n",
      "20                                   0.00                        0.00   \n",
      "21                                   0.00                        0.00   \n",
      "22                                   0.00                        0.00   \n",
      "23                                   0.00                        0.00   \n",
      "24                                   0.00                        0.00   \n",
      "25                                   0.00                        0.00   \n",
      "26                                   1.00                        1.00   \n",
      "27                                   0.00                        0.00   \n",
      "28                                   0.00                        1.00   \n",
      "29                                   0.00                        0.00   \n",
      "30                                   1.00                        1.00   \n",
      "31                                   1.00                        1.00   \n",
      "32                                   1.00                        1.00   \n",
      "33                                   0.00                        0.00   \n",
      "34                                   1.00                        0.00   \n",
      "35                                   0.00                        0.00   \n",
      "36                                   0.00                        0.00   \n",
      "37                                   0.00                        0.00   \n",
      "38                                   1.00                        1.00   \n",
      "39                                   0.00                        0.00   \n",
      "40                                   0.00                        0.00   \n",
      "41                                   1.00                        0.00   \n",
      "42                                   1.00                        0.00   \n",
      "43                                   0.00                        0.00   \n",
      "44                                   0.00                        0.00   \n",
      "45                                   0.00                        0.00   \n",
      "46                                   0.00                        0.00   \n",
      "47                                   0.00                        0.00   \n",
      "48                                   0.00                        0.00   \n",
      "Ensemble results%                    0.57                        0.73   \n",
      "\n",
      "                   NunezLogisticPredicted  NunezNaiveBayesPredicted  \\\n",
      "0                                    1.00                      1.00   \n",
      "1                                    0.00                      0.00   \n",
      "2                                    1.00                      1.00   \n",
      "3                                    1.00                      1.00   \n",
      "4                                    0.00                      1.00   \n",
      "5                                    0.00                      0.00   \n",
      "6                                    1.00                      2.00   \n",
      "7                                    0.00                      1.00   \n",
      "8                                    0.00                      0.00   \n",
      "9                                    0.00                      1.00   \n",
      "10                                   0.00                      0.00   \n",
      "11                                   0.00                      0.00   \n",
      "12                                   0.00                      1.00   \n",
      "13                                   0.00                      0.00   \n",
      "14                                   0.00                      0.00   \n",
      "15                                   0.00                      0.00   \n",
      "16                                   0.00                      1.00   \n",
      "17                                   0.00                      0.00   \n",
      "18                                   0.00                      0.00   \n",
      "19                                   1.00                      1.00   \n",
      "20                                   1.00                      2.00   \n",
      "21                                   0.00                      1.00   \n",
      "22                                   0.00                      1.00   \n",
      "23                                   0.00                      1.00   \n",
      "24                                   0.00                      1.00   \n",
      "25                                   0.00                      2.00   \n",
      "26                                   1.00                      1.00   \n",
      "27                                   0.00                      0.00   \n",
      "28                                   0.00                      0.00   \n",
      "29                                   0.00                      0.00   \n",
      "30                                   1.00                      2.00   \n",
      "31                                   1.00                      2.00   \n",
      "32                                   1.00                      2.00   \n",
      "33                                   0.00                      0.00   \n",
      "34                                   1.00                      1.00   \n",
      "35                                   0.00                      0.00   \n",
      "36                                   1.00                      2.00   \n",
      "37                                   1.00                      2.00   \n",
      "38                                   1.00                      1.00   \n",
      "39                                   0.00                      1.00   \n",
      "40                                   1.00                      2.00   \n",
      "41                                   1.00                      1.00   \n",
      "42                                   1.00                      1.00   \n",
      "43                                   0.00                      0.00   \n",
      "44                                   0.00                      0.00   \n",
      "45                                   0.00                      0.00   \n",
      "46                                   1.00                      2.00   \n",
      "47                                   0.00                      0.00   \n",
      "48                                   0.00                      0.00   \n",
      "Ensemble results%                    0.45                      0.31   \n",
      "\n",
      "                   NunezTrueHitsLanded  \n",
      "0                                  0.0  \n",
      "1                                  0.0  \n",
      "2                                  0.0  \n",
      "3                                  0.0  \n",
      "4                                  1.0  \n",
      "5                                  0.0  \n",
      "6                                  0.0  \n",
      "7                                  0.0  \n",
      "8                                  0.0  \n",
      "9                                  0.0  \n",
      "10                                 1.0  \n",
      "11                                 0.0  \n",
      "12                                 0.0  \n",
      "13                                 1.0  \n",
      "14                                 0.0  \n",
      "15                                 0.0  \n",
      "16                                 0.0  \n",
      "17                                 0.0  \n",
      "18                                 0.0  \n",
      "19                                 0.0  \n",
      "20                                 0.0  \n",
      "21                                 0.0  \n",
      "22                                 1.0  \n",
      "23                                 0.0  \n",
      "24                                 0.0  \n",
      "25                                 0.0  \n",
      "26                                 0.0  \n",
      "27                                 1.0  \n",
      "28                                 1.0  \n",
      "29                                 0.0  \n",
      "30                                 0.0  \n",
      "31                                 0.0  \n",
      "32                                 0.0  \n",
      "33                                 2.0  \n",
      "34                                 0.0  \n",
      "35                                 0.0  \n",
      "36                                 0.0  \n",
      "37                                 0.0  \n",
      "38                                 2.0  \n",
      "39                                 0.0  \n",
      "40                                 0.0  \n",
      "41                                 0.0  \n",
      "42                                 0.0  \n",
      "43                                 0.0  \n",
      "44                                 1.0  \n",
      "45                                 0.0  \n",
      "46                                 0.0  \n",
      "47                                 1.0  \n",
      "48                                 0.0  \n",
      "Ensemble results%                  1.0  \n"
     ]
    }
   ],
   "source": [
    "print dfE\n"
   ]
  },
  {
   "cell_type": "markdown",
   "metadata": {},
   "source": [
    "### PCA then K-means UnSupervised classification"
   ]
  },
  {
   "cell_type": "code",
   "execution_count": 436,
   "metadata": {},
   "outputs": [],
   "source": [
    "%matplotlib inline\n",
    "import matplotlib.pyplot as plt\n",
    "\n",
    "import pandas as pd\n",
    "import numpy as np\n",
    "\n",
    "from sklearn.metrics import classification_report, confusion_matrix\n",
    "from sklearn.decomposition import PCA\n",
    "from sklearn import manifold\n",
    "\n",
    "np.random.seed = 47"
   ]
  },
  {
   "cell_type": "code",
   "execution_count": 497,
   "metadata": {},
   "outputs": [
    {
     "name": "stdout",
     "output_type": "stream",
     "text": [
      "(113L, 113L)\n"
     ]
    }
   ],
   "source": [
    "pca = PCA()\n",
    "X_train_pca = pca.fit_transform(X_train_std)\n",
    "pca.explained_variance_ratio_\n",
    "print X_train_pca.shape"
   ]
  },
  {
   "cell_type": "code",
   "execution_count": 498,
   "metadata": {},
   "outputs": [
    {
     "data": {
      "image/png": "[encoded data removed]",
      "text/plain": [
       "<Figure size 432x288 with 1 Axes>"
      ]
     },
     "metadata": {
      "needs_background": "light"
     },
     "output_type": "display_data"
    }
   ],
   "source": [
    "plt.bar(range(1,len(pca.explained_variance_ratio_)+1), pca.explained_variance_ratio_, alpha=0.5, align='center')\n",
    "plt.step(range(1,len(pca.explained_variance_ratio_)+1), np.cumsum(pca.explained_variance_ratio_), where='mid')\n",
    "plt.ylabel('Explained variance ratio')\n",
    "plt.xlabel('Principal components')\n",
    "plt.show()"
   ]
  },
  {
   "cell_type": "code",
   "execution_count": 499,
   "metadata": {},
   "outputs": [],
   "source": [
    "n_neighbors = 10\n",
    "n_components = 2"
   ]
  },
  {
   "cell_type": "code",
   "execution_count": 502,
   "metadata": {},
   "outputs": [
    {
     "name": "stdout",
     "output_type": "stream",
     "text": [
      "Wall time: 49 ms\n"
     ]
    },
    {
     "data": {
      "image/png": "[encoded data removed]",
      "text/plain": [
       "<Figure size 720x576 with 2 Axes>"
      ]
     },
     "metadata": {
      "needs_background": "light"
     },
     "output_type": "display_data"
    }
   ],
   "source": [
    "% time Y2 = manifold.LocallyLinearEmbedding(n_neighbors, n_components,\\\n",
    "                                    eigen_solver='auto',\\\n",
    "                                    method='standard').fit_transform(X_train_std)\n",
    "fig = plt.figure(figsize=[10,8])\n",
    "axes = fig.add_subplot(1, 1, 1)#, axisbg='black')\n",
    "plt.ylabel('Component 2')\n",
    "plt.xlabel('Component 1')\n",
    "plt.title('Training Set PCA-2 components and 10 neighbors')\n",
    "plt.scatter(Y2[:, 0], Y2[:, 1], c=y_train, cmap=plt.cm.Spectral,edgecolors='none',s=25,alpha=0.5);\n",
    "cbar=plt.colorbar()# the range of hits landed is 0:2 scaled, and discrete as 0,1, or 2 per instance\n",
    "#cbar.set_ticks(list(class_mapping.values()))\n",
    "#cbar.set_ticklabels(list(class_mapping.keys()))"
   ]
  },
  {
   "cell_type": "code",
   "execution_count": 503,
   "metadata": {},
   "outputs": [
    {
     "name": "stdout",
     "output_type": "stream",
     "text": [
      "(49L, 49L)\n"
     ]
    }
   ],
   "source": [
    "pca = PCA()\n",
    "X_test_pca = pca.fit_transform(X_test_std)\n",
    "pca.explained_variance_ratio_\n",
    "print X_test_pca.shape"
   ]
  },
  {
   "cell_type": "code",
   "execution_count": 504,
   "metadata": {},
   "outputs": [
    {
     "data": {
      "image/png": "[encoded data removed]",
      "text/plain": [
       "<Figure size 432x288 with 1 Axes>"
      ]
     },
     "metadata": {
      "needs_background": "light"
     },
     "output_type": "display_data"
    }
   ],
   "source": [
    "plt.bar(range(1,len(pca.explained_variance_ratio_)+1), pca.explained_variance_ratio_, alpha=0.5, align='center')\n",
    "plt.step(range(1,len(pca.explained_variance_ratio_)+1), np.cumsum(pca.explained_variance_ratio_), where='mid')\n",
    "plt.ylabel('Explained variance ratio')\n",
    "plt.xlabel('Principal components')\n",
    "plt.show()"
   ]
  },
  {
   "cell_type": "code",
   "execution_count": 505,
   "metadata": {},
   "outputs": [],
   "source": [
    "n_neighbors = 10\n",
    "n_components = 2"
   ]
  },
  {
   "cell_type": "code",
   "execution_count": 506,
   "metadata": {},
   "outputs": [
    {
     "name": "stdout",
     "output_type": "stream",
     "text": [
      "Wall time: 17 ms\n"
     ]
    },
    {
     "data": {
      "image/png": "[encoded data removed]",
      "text/plain": [
       "<Figure size 720x576 with 2 Axes>"
      ]
     },
     "metadata": {
      "needs_background": "light"
     },
     "output_type": "display_data"
    }
   ],
   "source": [
    "% time Y2 = manifold.LocallyLinearEmbedding(n_neighbors, n_components,\\\n",
    "                                    eigen_solver='auto',\\\n",
    "                                    method='standard').fit_transform(X_test_std)\n",
    "fig = plt.figure(figsize=[10,8])\n",
    "axes = fig.add_subplot(1, 1, 1)#, axisbg='black')\n",
    "plt.ylabel('Component 2')\n",
    "plt.xlabel('Component 1')\n",
    "plt.title('Testing Set PCA-2 components and 10 neighbors')\n",
    "plt.scatter(Y2[:, 0], Y2[:, 1], c=y_test, cmap=plt.cm.Spectral,edgecolors='none',s=25,alpha=0.5);\n",
    "cbar=plt.colorbar()\n",
    "#cbar.set_ticks(list(class_mapping.values()))\n",
    "#cbar.set_ticklabels(list(class_mapping.keys()))"
   ]
  },
  {
   "cell_type": "markdown",
   "metadata": {},
   "source": [
    "### K-means"
   ]
  },
  {
   "cell_type": "code",
   "execution_count": 507,
   "metadata": {},
   "outputs": [],
   "source": [
    "from sklearn.cluster import KMeans\n",
    "Y = KMeans(n_clusters=2).fit_transform(X_train_std)"
   ]
  },
  {
   "cell_type": "code",
   "execution_count": 508,
   "metadata": {},
   "outputs": [
    {
     "name": "stdout",
     "output_type": "stream",
     "text": [
      "(113L, 2L)\n",
      "[[ 3.35236598  4.69089362]\n",
      " [ 5.64106522  5.03719649]\n",
      " [ 4.52171904  6.87300974]\n",
      " [ 5.5060711   4.88924781]\n",
      " [ 6.48031342  8.14145609]\n",
      " [ 4.80918354  6.45940272]\n",
      " [ 2.84199741  6.77928045]\n",
      " [ 3.31153328  6.66567436]\n",
      " [ 6.69843758  2.59483987]\n",
      " [ 5.53710861  2.7259814 ]\n",
      " [ 3.83939995  6.58788395]\n",
      " [ 6.4309732   2.36655439]\n",
      " [ 4.75722447  3.21909738]\n",
      " [ 4.88950555  7.51489918]\n",
      " [12.50067598 13.6902671 ]\n",
      " [ 5.60743374  2.85348177]\n",
      " [ 2.15332186  5.03346889]\n",
      " [ 3.95646118  7.17605871]\n",
      " [ 6.88538259  8.50428457]\n",
      " [ 3.32706218  6.77833826]\n",
      " [ 3.46488634  3.88115054]\n",
      " [ 6.33334412  4.89631095]\n",
      " [ 4.51033456  6.18127048]\n",
      " [13.64096815 13.15218462]\n",
      " [ 8.05999382  6.7775174 ]\n",
      " [ 9.67091718 10.87658364]\n",
      " [ 3.78657955  7.30459084]\n",
      " [13.58686616 15.06287403]\n",
      " [12.9648785  13.07388346]\n",
      " [ 2.81512035  5.6888996 ]\n",
      " [ 3.37700496  4.49121864]\n",
      " [ 3.15174604  6.3771847 ]\n",
      " [ 3.68080242  2.32335934]\n",
      " [17.04714023 16.11513741]\n",
      " [ 6.2639941   8.44192331]\n",
      " [ 2.87764491  4.66521552]\n",
      " [ 2.18451215  4.530379  ]\n",
      " [ 5.28877021  2.50120297]\n",
      " [ 5.0559761   3.04400076]\n",
      " [ 3.40452806  2.61438288]\n",
      " [ 3.57007832  4.07767894]\n",
      " [ 2.726612    4.69983308]\n",
      " [ 2.42801791  6.04458296]\n",
      " [ 6.16195618  3.31045191]\n",
      " [ 4.51082572  2.73129318]\n",
      " [ 5.2915216   6.61197795]\n",
      " [ 2.30489664  4.90778526]\n",
      " [ 2.90869882  4.80398434]\n",
      " [13.59081373 11.77683885]\n",
      " [ 4.71677839  7.7347596 ]\n",
      " [ 5.79163115  2.12403321]\n",
      " [ 4.40784683  5.74948462]\n",
      " [ 7.35082155  3.83793873]\n",
      " [ 6.26560637  7.55989905]\n",
      " [ 9.4644058   7.08724867]\n",
      " [ 2.74999132  6.37729086]\n",
      " [ 8.04442864  4.85110674]\n",
      " [ 3.52414005  4.24430983]\n",
      " [ 5.65406031  8.2624415 ]\n",
      " [ 2.84134006  5.71603387]\n",
      " [ 5.59801495  6.35984554]\n",
      " [ 5.61394215  2.70846438]\n",
      " [ 4.01489058  5.31441138]\n",
      " [ 3.10023683  5.88184911]\n",
      " [ 6.48587129  2.41094634]\n",
      " [ 3.98301061  6.64593345]\n",
      " [ 7.00565957  6.68029217]\n",
      " [ 5.73482094  4.55570617]\n",
      " [ 6.74710282  3.22494737]\n",
      " [ 3.71381998  3.80609386]\n",
      " [16.84974562 16.22041159]\n",
      " [ 7.31456975  3.67594545]\n",
      " [ 4.71678991  5.73605936]\n",
      " [ 2.20503942  4.50460214]\n",
      " [ 3.22286459  6.42482387]\n",
      " [ 3.47799211  6.97950042]\n",
      " [ 4.66813051  2.16468419]\n",
      " [ 8.82186727  9.35972306]\n",
      " [ 3.63950912  5.19390743]\n",
      " [ 3.05221856  6.95308439]\n",
      " [ 4.7570982   6.43977976]\n",
      " [ 4.22242432  7.65932654]\n",
      " [ 4.48075496  3.16624889]\n",
      " [ 3.38639836  6.88598498]\n",
      " [ 4.1655496   6.37629687]\n",
      " [ 4.65286038  5.03858519]\n",
      " [ 2.39989422  5.23894018]\n",
      " [16.50143221 17.2107031 ]\n",
      " [ 6.05719052  5.99958984]\n",
      " [ 5.29119767  2.54898529]\n",
      " [ 2.68399659  4.71799138]\n",
      " [ 2.33608614  6.01099932]\n",
      " [ 7.59948872  3.96836662]\n",
      " [ 6.41581397  6.73574159]\n",
      " [ 2.2380046   5.59856669]\n",
      " [ 7.89567826  8.80947888]\n",
      " [ 3.65296377  6.81047508]\n",
      " [ 4.67398906  7.33365206]\n",
      " [ 6.06442969  5.05441491]\n",
      " [ 6.10056085  4.41800224]\n",
      " [ 4.67013883  7.04148114]\n",
      " [ 5.07168496  7.10742773]\n",
      " [ 3.47132979  4.25199042]\n",
      " [ 3.83141213  2.1224926 ]\n",
      " [14.08255844 12.48170809]\n",
      " [ 2.44299907  5.68350709]\n",
      " [ 4.70265269  6.30789091]\n",
      " [ 2.44430523  5.42516003]\n",
      " [ 3.79592995  5.89076883]\n",
      " [ 4.80370475  7.57633328]\n",
      " [ 3.68499945  4.74315055]\n",
      " [ 3.19784477  5.72048252]\n",
      " [ 4.82387962  3.1016531 ]]\n"
     ]
    }
   ],
   "source": [
    "print Y.shape\n",
    "print Y"
   ]
  },
  {
   "cell_type": "code",
   "execution_count": 509,
   "metadata": {},
   "outputs": [
    {
     "data": {
      "image/png": "[encoded data removed]",
      "text/plain": [
       "<Figure size 720x576 with 2 Axes>"
      ]
     },
     "metadata": {
      "needs_background": "light"
     },
     "output_type": "display_data"
    }
   ],
   "source": [
    "fig = plt.figure(figsize=[10,8])\n",
    "axes = fig.add_subplot(1, 1, 1)#, axisbg='black')\n",
    "plt.scatter(Y[:, 0], Y[:, 1], c=y_train, cmap=plt.cm.Spectral,edgecolors='none',s=50,alpha=0.5);\n",
    "plt.title('Training Set use of K-means with K=2')\n",
    "cbar=plt.colorbar()\n",
    "#cbar.set_ticks(list(class_mapping.values()))\n",
    "#cbar.set_ticklabels(list(class_mapping.keys()))"
   ]
  },
  {
   "cell_type": "code",
   "execution_count": 516,
   "metadata": {},
   "outputs": [],
   "source": [
    "Y1 = KMeans(n_clusters=3).fit_transform(X_test_std)#because 0,1, or 2 hits per instance of hits landed"
   ]
  },
  {
   "cell_type": "code",
   "execution_count": 517,
   "metadata": {},
   "outputs": [
    {
     "data": {
      "text/plain": [
       "(49L, 3L)"
      ]
     },
     "execution_count": 517,
     "metadata": {},
     "output_type": "execute_result"
    }
   ],
   "source": [
    "Y1.shape"
   ]
  },
  {
   "cell_type": "code",
   "execution_count": 518,
   "metadata": {},
   "outputs": [
    {
     "data": {
      "text/plain": [
       "array([[13.99337691,  2.56209594,  5.36822351],\n",
       "       [13.56889904,  3.95923249,  3.02969592],\n",
       "       [13.48965747,  5.10659763,  2.72006934],\n",
       "       [17.21157494, 11.82763121, 10.80415372],\n",
       "       [13.7990741 ,  2.53580055,  3.85902438],\n",
       "       [14.9247172 ,  4.25478834,  7.34774771],\n",
       "       [14.97306962,  6.70687781,  7.00329684],\n",
       "       [14.31950703,  3.08055996,  6.35769096],\n",
       "       [14.03490934,  2.93001383,  4.95475547],\n",
       "       [13.66862037,  5.74765544,  2.34077355],\n",
       "       [13.83292509,  5.52146948,  3.94467246],\n",
       "       [14.19400186,  4.48357795,  5.4068701 ],\n",
       "       [13.67321624,  5.88825555,  2.42280084],\n",
       "       [14.24021476,  2.96514781,  5.89258397],\n",
       "       [13.64857594,  4.63911431,  2.42885453],\n",
       "       [17.71018484, 12.23112407, 11.44551381],\n",
       "       [13.50227494,  3.91438752,  3.36852406],\n",
       "       [13.79109918,  3.09042923,  4.34473013],\n",
       "       [13.65652945,  5.52237098,  2.32443552],\n",
       "       [14.14134002,  4.68787917,  5.89987619],\n",
       "       [14.38119392,  2.84288026,  6.11773694],\n",
       "       [13.73456049,  3.03005136,  4.01667261],\n",
       "       [14.57963849,  5.82621231,  6.26170609],\n",
       "       [13.35476235,  3.9254369 ,  2.32892254],\n",
       "       [14.19808858,  5.87435843,  4.943843  ],\n",
       "       [13.78003173,  4.81857289,  2.88283466],\n",
       "       [13.54540627,  4.93321632,  2.26548089],\n",
       "       [13.74652174,  2.065119  ,  4.3757331 ],\n",
       "       [13.67023524,  3.64767362,  4.113694  ],\n",
       "       [14.04973674,  2.72203848,  5.54541721],\n",
       "       [13.74441894,  3.63210252,  3.99779017],\n",
       "       [14.86357264,  3.98543118,  7.64784755],\n",
       "       [15.15626248,  6.20986389,  7.88799121],\n",
       "       [13.60133136,  2.62939209,  3.68734867],\n",
       "       [14.76204148,  5.2167404 ,  7.24026168],\n",
       "       [13.6187495 ,  5.31684499,  2.30085322],\n",
       "       [15.99372098,  6.95932042,  9.17510102],\n",
       "       [15.78586324,  7.52782115,  9.16159125],\n",
       "       [ 0.        , 13.73108309, 13.38400618],\n",
       "       [14.0664466 ,  2.81539862,  5.74884205],\n",
       "       [14.46376774,  7.34485057,  5.11959115],\n",
       "       [13.57361588,  5.22362508,  2.25648686],\n",
       "       [13.65042635,  4.65415116,  2.42888655],\n",
       "       [16.04393363,  7.7061895 ,  9.75007254],\n",
       "       [14.78161984,  3.36671143,  7.09247073],\n",
       "       [15.31493762,  7.24588827,  7.63348988],\n",
       "       [14.33477397,  6.90143097,  4.4677674 ],\n",
       "       [14.19524737,  4.49248752,  5.4078114 ],\n",
       "       [13.70433099,  5.98031284,  2.40627382]])"
      ]
     },
     "execution_count": 518,
     "metadata": {},
     "output_type": "execute_result"
    }
   ],
   "source": [
    "Y1"
   ]
  },
  {
   "cell_type": "code",
   "execution_count": 519,
   "metadata": {},
   "outputs": [
    {
     "name": "stdout",
     "output_type": "stream",
     "text": [
      "[1 0 0 0 1 1 0 1 1 0 0 0 0 1 0 0 0 1 0 1 1 1 0 0 0 0 0 1 0 1 1 1 1 0 1 0 1\n",
      " 1 2 1 0 0 0 1 1 0 0 0 0]\n",
      "[0 0 0 0 1 0 0 0 0 0 1 0 0 1 0 0 0 0 0 0 0 0 1 0 0 0 0 1 1 0 0 0 0 2 0 0 0\n",
      " 0 2 0 0 0 0 0 1 0 0 1 0]\n"
     ]
    }
   ],
   "source": [
    "from sklearn.cluster import KMeans\n",
    "import numpy as np\n",
    "\n",
    "kmeans = KMeans(n_clusters=3, random_state=0).fit(X_train_std)\n",
    "#print kmeans.labels_\n",
    "\n",
    "kmeans1 = KMeans(n_clusters=3, random_state=0).fit(X_test_std)\n",
    "print kmeans1.labels_\n",
    "\n",
    "actual = y_test\n",
    "print actual\n"
   ]
  },
  {
   "cell_type": "code",
   "execution_count": 520,
   "metadata": {},
   "outputs": [],
   "source": [
    "from pandas import Series, DataFrame\n",
    "\n",
    "d = pd.Series(kmeans1.labels_)\n",
    "a = pd.Series(actual)\n",
    "\n",
    "df_k = pd.concat([d,a], axis=1)\n",
    "df_k.columns = ['kMeansNunezTestingSet', 'NunezTrueHitsLanded']\n",
    "\n",
    "\n",
    "#print d, a\n"
   ]
  },
  {
   "cell_type": "code",
   "execution_count": 521,
   "metadata": {},
   "outputs": [
    {
     "name": "stdout",
     "output_type": "stream",
     "text": [
      "                                    kMeansNunezTestingSet  NunezTrueHitsLanded\n",
      "0                                                    1.00                  0.0\n",
      "1                                                    0.00                  0.0\n",
      "2                                                    0.00                  0.0\n",
      "3                                                    0.00                  0.0\n",
      "4                                                    1.00                  1.0\n",
      "5                                                    1.00                  0.0\n",
      "6                                                    0.00                  0.0\n",
      "7                                                    1.00                  0.0\n",
      "8                                                    1.00                  0.0\n",
      "9                                                    0.00                  0.0\n",
      "10                                                   0.00                  1.0\n",
      "11                                                   0.00                  0.0\n",
      "12                                                   0.00                  0.0\n",
      "13                                                   1.00                  1.0\n",
      "14                                                   0.00                  0.0\n",
      "15                                                   0.00                  0.0\n",
      "16                                                   0.00                  0.0\n",
      "17                                                   1.00                  0.0\n",
      "18                                                   0.00                  0.0\n",
      "19                                                   1.00                  0.0\n",
      "20                                                   1.00                  0.0\n",
      "21                                                   1.00                  0.0\n",
      "22                                                   0.00                  1.0\n",
      "23                                                   0.00                  0.0\n",
      "24                                                   0.00                  0.0\n",
      "25                                                   0.00                  0.0\n",
      "26                                                   0.00                  0.0\n",
      "27                                                   1.00                  1.0\n",
      "28                                                   0.00                  1.0\n",
      "29                                                   1.00                  0.0\n",
      "30                                                   1.00                  0.0\n",
      "31                                                   1.00                  0.0\n",
      "32                                                   1.00                  0.0\n",
      "33                                                   0.00                  2.0\n",
      "34                                                   1.00                  0.0\n",
      "35                                                   0.00                  0.0\n",
      "36                                                   1.00                  0.0\n",
      "37                                                   1.00                  0.0\n",
      "38                                                   2.00                  2.0\n",
      "39                                                   1.00                  0.0\n",
      "40                                                   0.00                  0.0\n",
      "41                                                   0.00                  0.0\n",
      "42                                                   0.00                  0.0\n",
      "43                                                   1.00                  0.0\n",
      "44                                                   1.00                  1.0\n",
      "45                                                   0.00                  0.0\n",
      "46                                                   0.00                  0.0\n",
      "47                                                   0.00                  1.0\n",
      "48                                                   0.00                  0.0\n",
      "Kmeans all Testing sample results%                   0.55                  1.0\n"
     ]
    }
   ],
   "source": [
    "ad = pd.Series(round(accuracy_score(kmeans1.labels_, y_test),2))\n",
    "aa = pd.Series(round(accuracy_score(actual,y_test),2))\n",
    "\n",
    "dfK = pd.concat([ad,aa],axis=1)#creates a vector of 1X5 for KNN results concatenating along columns\n",
    "dfK.columns = ['kMeansNunezTestingSet', 'NunezTrueHitsLanded']\n",
    "dfK.index = ['Kmeans all Testing sample results%']#gives the row name of this 1X5 data frame\n",
    "\n",
    "df_km = pd.concat([df_k,dfK], axis=0)#concatenates along the rows for the results and scores\n",
    "print df_km\n",
    "\n"
   ]
  },
  {
   "cell_type": "code",
   "execution_count": 522,
   "metadata": {},
   "outputs": [
    {
     "name": "stdout",
     "output_type": "stream",
     "text": [
      "Kmeans table on Nunez testing set of only the hits landed and predicted:\n",
      "\n",
      "                 kMeansNunezTestingSet  NunezTrueHitsLanded\n",
      "4                                  1.0                  1.0\n",
      "10                                 0.0                  1.0\n",
      "13                                 1.0                  1.0\n",
      "22                                 0.0                  1.0\n",
      "27                                 1.0                  1.0\n",
      "28                                 0.0                  1.0\n",
      "33                                 0.0                  2.0\n",
      "38                                 2.0                  2.0\n",
      "44                                 1.0                  1.0\n",
      "47                                 0.0                  1.0\n",
      "KMeans results%                    0.5                  1.0\n"
     ]
    }
   ],
   "source": [
    "\n",
    "NunezKmeans1 = df_km.loc[(df_km.NunezTrueHitsLanded >0), ['kMeansNunezTestingSet', 'NunezTrueHitsLanded']]\n",
    "NunezKmeans = NunezKmeans1.iloc[0:10,]\n",
    "\n",
    "s = float(sum(NunezKmeans.iloc[:,0] == NunezKmeans.iloc[:,1]))\n",
    "l = float(len(NunezKmeans.iloc[:,0]))\n",
    "accuracy = round(s/l,2)\n",
    "\n",
    "sa = pd.Series(round(accuracy,2))\n",
    "aa = pd.Series(round(accuracy_score(y_test,y_test),2))\n",
    "\n",
    "dfKM = pd.concat([sa,aa],axis=1)#creates a vector of 1X2 for KNN results concatenating along columns\n",
    "dfKM.columns = ['kMeansNunezTestingSet', 'NunezTrueHitsLanded']\n",
    "dfKM.index = ['KMeans results%']#gives the row name of this 1X2 data frame\n",
    "\n",
    "dfkm = pd.concat([NunezKmeans, dfKM], axis=0)#concatenates along the rows for the results and scores\n",
    "\n",
    "\n",
    "\n",
    "print 'Kmeans table on Nunez testing set of only the hits landed and predicted:\\n\\n',dfkm"
   ]
  },
  {
   "cell_type": "markdown",
   "metadata": {},
   "source": [
    "## K-means unsupervised classification on the prediction of hits landed"
   ]
  },
  {
   "cell_type": "code",
   "execution_count": 524,
   "metadata": {},
   "outputs": [
    {
     "name": "stdout",
     "output_type": "stream",
     "text": [
      "49\n",
      "[0 1 1 1 0 0 1 0 0 1 1 1 1 0 1 1 1 0 1 0 0 0 1 1 1 1 1 0 1 0 0 0 0 1 0 1 0\n",
      " 0 1 0 1 1 1 0 0 1 1 1 1]\n",
      "49\n",
      "[0 0 0 0 1 0 0 0 0 0 1 0 0 1 0 0 0 0 0 0 0 0 1 0 0 0 0 1 1 0 0 0 0 2 0 0 0\n",
      " 0 2 0 0 0 0 0 1 0 0 1 0]\n",
      "21\n",
      "Accuracy:  0.43\n"
     ]
    }
   ],
   "source": [
    "from sklearn.cluster import KMeans\n",
    "import numpy as np\n",
    "\n",
    "kmeans = KMeans(n_clusters=3, random_state=0).fit(X_train_std)\n",
    "TestResults = kmeans.predict(X_test_std)\n",
    "print len(TestResults)\n",
    "print TestResults\n",
    "#print kmeans.cluster_centers_\n",
    "print len(y_test)\n",
    "print y_test\n",
    "print sum(y_test==TestResults)\n",
    "print 'Accuracy: ' , round(float(sum(y_test==TestResults))/(float(len(y_test))),2)"
   ]
  },
  {
   "cell_type": "code",
   "execution_count": 534,
   "metadata": {},
   "outputs": [
    {
     "data": {
      "image/png": "[encoded data removed]",
      "text/plain": [
       "<Figure size 720x576 with 2 Axes>"
      ]
     },
     "metadata": {
      "needs_background": "light"
     },
     "output_type": "display_data"
    }
   ],
   "source": [
    "Y1 = KMeans(n_clusters=3).fit_transform(X_test_std)\n",
    "fig = plt.figure(figsize=[10,8])\n",
    "axes = fig.add_subplot(1, 1, 1)#, axisbg='black')\n",
    "plt.scatter(Y1[:, 1], Y1[:, 2], c=y_test, cmap=plt.cm.Spectral,edgecolors='none',s=50,alpha=0.5);\n",
    "plt.title('Testing Set use of K-means with K=3')\n",
    "cbar=plt.colorbar()\n",
    "#cbar.set_ticks(list(class_mapping.values()))\n",
    "#cbar.set_ticklabels(list(class_mapping.keys()))"
   ]
  },
  {
   "cell_type": "markdown",
   "metadata": {},
   "source": [
    "### Random Forests"
   ]
  },
  {
   "cell_type": "code",
   "execution_count": 535,
   "metadata": {
    "scrolled": true
   },
   "outputs": [
    {
     "name": "stderr",
     "output_type": "stream",
     "text": [
      "C:\\Users\\m\\Anaconda2\\lib\\site-packages\\sklearn\\model_selection\\_split.py:2052: FutureWarning: You should specify a value for 'cv' instead of relying on the default value. The default value will change from 3 to 5 in version 0.22.\n",
      "  warnings.warn(CV_WARNING, FutureWarning)\n",
      "C:\\Users\\m\\Anaconda2\\lib\\site-packages\\sklearn\\model_selection\\_split.py:651: Warning: The least populated class in y has only 2 members, which is too few. The minimum number of members in any class cannot be less than n_splits=3.\n",
      "  % (min_groups, self.n_splits)), Warning)\n",
      "C:\\Users\\m\\Anaconda2\\lib\\site-packages\\sklearn\\model_selection\\_search.py:842: DeprecationWarning: The default of the `iid` parameter will change from True to False in version 0.22 and will be removed in 0.24. This will change numeric results when test-set sizes are unequal.\n",
      "  DeprecationWarning)\n"
     ]
    },
    {
     "name": "stdout",
     "output_type": "stream",
     "text": [
      "GridSearchCV(cv='warn', error_score='raise-deprecating',\n",
      "       estimator=RandomForestClassifier(bootstrap=True, class_weight=None, criterion='gini',\n",
      "            max_depth=None, max_features='auto', max_leaf_nodes=None,\n",
      "            min_impurity_decrease=0.0, min_impurity_split=None,\n",
      "            min_samples_leaf=1, min_samples_split=2,\n",
      "            min_weight_fraction_leaf=0.0, n_estimators='warn', n_jobs=None,\n",
      "            oob_score=False, random_state=47, verbose=0, warm_start=False),\n",
      "       fit_params=None, iid='warn', n_jobs=None,\n",
      "       param_grid={'n_estimators': [5, 10, 50, 100, 200, 300, 400, 1000]},\n",
      "       pre_dispatch='2*n_jobs', refit=True, return_train_score='warn',\n",
      "       scoring=None, verbose=0)\n",
      "Grid Training Set Best Score:  0.8141592920353983\n",
      "Grid Training Set Best Number of Trees Estimator:  100\n"
     ]
    }
   ],
   "source": [
    "from sklearn.ensemble import RandomForestClassifier\n",
    "from sklearn.model_selection import GridSearchCV\n",
    "\n",
    "n_estimators_list = [5,10,50,100,200,300,400,1000]\n",
    "\n",
    "rfc = RandomForestClassifier(random_state=47)\n",
    "grid = GridSearchCV(estimator=rfc, param_grid=dict(n_estimators=n_estimators_list))\n",
    "grid.fit(X_train_std, y_train)\n",
    "\n",
    "print grid\n",
    "# summarize the results of the grid search\n",
    "print 'Grid Training Set Best Score: ',grid.best_score_\n",
    "print 'Grid Training Set Best Number of Trees Estimator: ', grid.best_estimator_.n_estimators"
   ]
  },
  {
   "cell_type": "code",
   "execution_count": 538,
   "metadata": {},
   "outputs": [
    {
     "name": "stdout",
     "output_type": "stream",
     "text": [
      "(113L,)\n"
     ]
    },
    {
     "data": {
      "text/plain": [
       "array([0, 0, 0, 1, 0, 0, 0, 0, 0, 1, 1, 0, 0, 0, 1, 0, 0, 0, 0, 0, 0, 0,\n",
       "       0, 0, 0, 0, 0, 0, 0, 0, 0, 0, 1, 0, 0, 0, 1, 1, 0, 0, 0, 0, 0, 0,\n",
       "       0, 1, 0, 0, 0, 0, 0, 0, 0, 1, 0, 0, 0, 0, 0, 0, 1, 0, 0, 0, 0, 0,\n",
       "       0, 1, 0, 0, 0, 0, 0, 0, 0, 0, 2, 0, 1, 0, 0, 0, 0, 0, 0, 2, 1, 0,\n",
       "       1, 0, 0, 0, 0, 1, 0, 0, 0, 0, 0, 0, 0, 0, 0, 1, 0, 0, 0, 0, 0, 1,\n",
       "       0, 0, 0], dtype=int64)"
      ]
     },
     "execution_count": 538,
     "metadata": {},
     "output_type": "execute_result"
    }
   ],
   "source": [
    "rfc = RandomForestClassifier(random_state=1)\n",
    "rfc.fit(X_train_scaled, y_train) #train Nunez's instances with random forest\n",
    "predicted = rfc.predict(X_train_scaled)#test Nunez's instances with random forest\n",
    "print predicted.shape\n",
    "predicted"
   ]
  },
  {
   "cell_type": "code",
   "execution_count": 539,
   "metadata": {},
   "outputs": [
    {
     "name": "stdout",
     "output_type": "stream",
     "text": [
      "GridSearchCV(cv='warn', error_score='raise-deprecating',\n",
      "       estimator=RandomForestClassifier(bootstrap=True, class_weight=None, criterion='gini',\n",
      "            max_depth=None, max_features='auto', max_leaf_nodes=None,\n",
      "            min_impurity_decrease=0.0, min_impurity_split=None,\n",
      "            min_samples_leaf=1, min_samples_split=2,\n",
      "            min_weight_fraction_leaf=0.0, n_estimators='warn', n_jobs=None,\n",
      "            oob_score=False, random_state=47, verbose=0, warm_start=False),\n",
      "       fit_params=None, iid='warn', n_jobs=None,\n",
      "       param_grid={'n_estimators': [5, 10, 50, 100, 200, 300, 400, 1000]},\n",
      "       pre_dispatch='2*n_jobs', refit=True, return_train_score='warn',\n",
      "       scoring=None, verbose=0)\n",
      "Grid Testing Set Best Score:  0.7959183673469388\n",
      "Grid Testing Set Best Number of Trees Estimator:  5\n"
     ]
    },
    {
     "name": "stderr",
     "output_type": "stream",
     "text": [
      "C:\\Users\\m\\Anaconda2\\lib\\site-packages\\sklearn\\model_selection\\_search.py:842: DeprecationWarning: The default of the `iid` parameter will change from True to False in version 0.22 and will be removed in 0.24. This will change numeric results when test-set sizes are unequal.\n",
      "  DeprecationWarning)\n"
     ]
    }
   ],
   "source": [
    "from sklearn.ensemble import RandomForestClassifier\n",
    "from sklearn.model_selection import GridSearchCV\n",
    "\n",
    "n_estimators_list = [5,10,50,100,200,300,400,1000]\n",
    "\n",
    "rfc = RandomForestClassifier(random_state=47)\n",
    "grid = GridSearchCV(estimator=rfc, param_grid=dict(n_estimators=n_estimators_list))\n",
    "grid.fit(X_test_std, y_test)#Nunez testing set\n",
    "\n",
    "print grid\n",
    "# summarize the results of the grid search\n",
    "print 'Grid Testing Set Best Score: ',grid.best_score_\n",
    "print 'Grid Testing Set Best Number of Trees Estimator: ', grid.best_estimator_.n_estimators"
   ]
  },
  {
   "cell_type": "code",
   "execution_count": 540,
   "metadata": {},
   "outputs": [
    {
     "name": "stdout",
     "output_type": "stream",
     "text": [
      "(49L,)\n"
     ]
    },
    {
     "data": {
      "text/plain": [
       "array([0, 0, 0, 0, 0, 0, 0, 0, 0, 0, 0, 0, 0, 0, 0, 0, 0, 0, 0, 0, 0, 0,\n",
       "       0, 0, 0, 0, 1, 0, 1, 0, 1, 1, 1, 0, 0, 0, 0, 0, 1, 0, 0, 0, 0, 0,\n",
       "       0, 0, 0, 0, 0], dtype=int64)"
      ]
     },
     "execution_count": 540,
     "metadata": {},
     "output_type": "execute_result"
    }
   ],
   "source": [
    "rfc = RandomForestClassifier(random_state=1)\n",
    "rfc.fit(X_train_scaled, y_train)#train on Nunez's training instances \n",
    "predicted = rfc.predict(X_test_scaled) #then compare predictions of Mazvidal's testing instances\n",
    "print predicted.shape\n",
    "predicted"
   ]
  },
  {
   "cell_type": "code",
   "execution_count": 542,
   "metadata": {},
   "outputs": [
    {
     "name": "stdout",
     "output_type": "stream",
     "text": [
      "(49L,)\n"
     ]
    },
    {
     "data": {
      "text/plain": [
       "array([0, 0, 0, 0, 0, 0, 0, 0, 1, 0, 0, 0, 0, 0, 1, 1, 1, 0, 0, 0, 0, 0,\n",
       "       0, 0, 0, 0, 0, 0, 0, 0, 0, 0, 0, 0, 0, 0, 0, 0, 0, 0, 0, 0, 0, 0,\n",
       "       0, 0, 0, 0, 0], dtype=int64)"
      ]
     },
     "execution_count": 542,
     "metadata": {},
     "output_type": "execute_result"
    }
   ],
   "source": [
    "rfc = RandomForestClassifier(random_state=1)\n",
    "rfc.fit(X_test_std, y_test)#train on Nunez's testing instances \n",
    "predicted = rfc.predict(X_test_scaled) #then compare predictions of Mazvidal's instances\n",
    "print predicted.shape\n",
    "predicted"
   ]
  },
  {
   "cell_type": "code",
   "execution_count": null,
   "metadata": {},
   "outputs": [],
   "source": []
  }
 ],
 "metadata": {
  "kernelspec": {
   "display_name": "Python 2",
   "language": "python",
   "name": "python2"
  },
  "language_info": {
   "codemirror_mode": {
    "name": "ipython",
    "version": 2
   },
   "file_extension": ".py",
   "mimetype": "text/x-python",
   "name": "python",
   "nbconvert_exporter": "python",
   "pygments_lexer": "ipython2",
   "version": "2.7.16"
  }
 },
 "nbformat": 4,
 "nbformat_minor": 2
}
